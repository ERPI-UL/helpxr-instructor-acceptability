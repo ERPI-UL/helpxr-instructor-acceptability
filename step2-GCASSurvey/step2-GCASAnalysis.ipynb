{
 "cells": [
  {
   "cell_type": "markdown",
   "metadata": {},
   "source": [
    "# Step 1: Greek Computer Attitudes Scale"
   ]
  },
  {
   "cell_type": "markdown",
   "metadata": {},
   "source": [
    "Import libraries"
   ]
  },
  {
   "cell_type": "code",
   "execution_count": 1,
   "metadata": {},
   "outputs": [],
   "source": [
    "import numpy as np\n",
    "import pandas as pd\n",
    "# import plot_likert\n",
    "import matplotlib.pyplot as plt\n",
    "\n",
    "from scipy import stats\n",
    "from pandas.api.types import CategoricalDtype"
   ]
  },
  {
   "cell_type": "markdown",
   "metadata": {},
   "source": [
    "Load data"
   ]
  },
  {
   "cell_type": "code",
   "execution_count": 2,
   "metadata": {},
   "outputs": [],
   "source": [
    "BFdata= pd.read_csv(\"step2-rawdata-clean.csv\", delimiter=\";\")"
   ]
  },
  {
   "cell_type": "code",
   "execution_count": 3,
   "metadata": {},
   "outputs": [],
   "source": [
    "def cohend(d1, d2):\n",
    "\t# calculate the size of samples\n",
    "\tn1, n2 = len(d1), len(d2)\n",
    "\t# calculate the variance of the samples\n",
    "\ts1, s2 = np.var(d1, ddof=1), np.var(d2, ddof=1)\n",
    "\t# calculate the pooled standard deviation\n",
    "\ts = np.sqrt(((n1 - 1) * s1 + (n2 - 1) * s2) / (n1 + n2 - 2))\n",
    "\t# calculate the means of the samples\n",
    "\tu1, u2 = np.mean(d1), np.mean(d2)\n",
    "\t# calculate the effect size\n",
    "\treturn (u1 - u2) / s"
   ]
  },
  {
   "cell_type": "code",
   "execution_count": 4,
   "metadata": {},
   "outputs": [],
   "source": [
    "techExperience_dtype = CategoricalDtype(ordered=True, categories=[1,2,3,4,5])\n",
    "BFdata[\"G01Q12_encoded\"] = BFdata[\"G01Q12\"]\n",
    "BFdata[\"G01Q12\"] = BFdata[\"G01Q12\"].astype(techExperience_dtype)"
   ]
  },
  {
   "cell_type": "code",
   "execution_count": 5,
   "metadata": {},
   "outputs": [],
   "source": [
    "answerList = [\"Pas du tout d'accord\",\"Pas d'accord\",\"Un peu d'accord\",\"D'accord\",\"Tout à fait d'accord\"]\n",
    "likert_dtype = CategoricalDtype(categories=answerList, ordered=True)\n",
    "\n",
    "scale = {\"Pas du tout d'accord\":1,\"Pas d'accord\":2,\"Un peu d'accord\":3,\"D'accord\":4,\"Tout à fait d'accord\":5}\n",
    "scaleInverted = {\"Pas du tout d'accord\":5,\"Pas d'accord\":4,\"Un peu d'accord\":3,\"D'accord\":2,\"Tout à fait d'accord\":1}\n",
    "\n",
    "ConfianceNormalScaleQuestionID = [1,2,4,5,6,8,10,13,14]\n",
    "ConfianceInvertedScaleQuestionID = [3,7,9,11,12,15]\n",
    "\n",
    "AffectionNormalScaleQuestionID = [3,7,8,10]\n",
    "AffectionInvertedScaleQuestionID = [1,2,4,5,6,9]\n",
    "\n",
    "CognitiveNormalScaleQuestionID = [5]\n",
    "CognitiveInvertedScaleQuestionID = [1,2,3,4]"
   ]
  },
  {
   "cell_type": "code",
   "execution_count": 6,
   "metadata": {},
   "outputs": [],
   "source": [
    "# Confiance\n",
    "for i in ConfianceNormalScaleQuestionID:\n",
    "    if(i<10):\n",
    "        BFdata[\"G01Confiance[SQ00\"+str(i)+\"]_encoded\"] = BFdata[\"G01Confiance[SQ00\"+str(i)+\"]\"].replace(scale)\n",
    "        BFdata[\"G01Confiance[SQ00\"+str(i)+\"]\"] = BFdata[\"G01Confiance[SQ00\"+str(i)+\"]\"].astype(likert_dtype)\n",
    "    else:\n",
    "        BFdata[\"G01Confiance[SQ0\"+str(i)+\"]_encoded\"] = BFdata[\"G01Confiance[SQ0\"+str(i)+\"]\"].replace(scale)\n",
    "        BFdata[\"G01Confiance[SQ0\"+str(i)+\"]\"] = BFdata[\"G01Confiance[SQ0\"+str(i)+\"]\"].astype(likert_dtype)\n",
    "\n",
    "for i in ConfianceInvertedScaleQuestionID:\n",
    "    if(i<10):\n",
    "        BFdata[\"G01Confiance[SQ00\"+str(i)+\"]_encoded\"] = BFdata[\"G01Confiance[SQ00\"+str(i)+\"]\"].replace(scaleInverted)\n",
    "        BFdata[\"G01Confiance[SQ00\"+str(i)+\"]\"] = BFdata[\"G01Confiance[SQ00\"+str(i)+\"]\"].astype(likert_dtype)\n",
    "    else:\n",
    "        BFdata[\"G01Confiance[SQ0\"+str(i)+\"]_encoded\"] = BFdata[\"G01Confiance[SQ0\"+str(i)+\"]\"].replace(scale)\n",
    "        BFdata[\"G01Confiance[SQ0\"+str(i)+\"]\"] = BFdata[\"G01Confiance[SQ0\"+str(i)+\"]\"].astype(likert_dtype)\n",
    "\n",
    "# Affection\n",
    "for i in AffectionNormalScaleQuestionID:\n",
    "    if(i<10):\n",
    "        BFdata[\"G02Affection[SQ00\"+str(i)+\"]_encoded\"] = BFdata[\"G02Affection[SQ00\"+str(i)+\"]\"].replace(scale)\n",
    "        BFdata[\"G02Affection[SQ00\"+str(i)+\"]\"] = BFdata[\"G02Affection[SQ00\"+str(i)+\"]\"].astype(likert_dtype)\n",
    "    else:\n",
    "        BFdata[\"G02Affection[SQ0\"+str(i)+\"]_encoded\"] = BFdata[\"G02Affection[SQ0\"+str(i)+\"]\"].replace(scale)\n",
    "        BFdata[\"G02Affection[SQ0\"+str(i)+\"]\"] = BFdata[\"G02Affection[SQ0\"+str(i)+\"]\"].astype(likert_dtype)\n",
    "\n",
    "for i in AffectionInvertedScaleQuestionID:\n",
    "    if(i<10):\n",
    "        BFdata[\"G02Affection[SQ00\"+str(i)+\"]_encoded\"] = BFdata[\"G02Affection[SQ00\"+str(i)+\"]\"].replace(scaleInverted)\n",
    "        BFdata[\"G02Affection[SQ00\"+str(i)+\"]\"] = BFdata[\"G02Affection[SQ00\"+str(i)+\"]\"].astype(likert_dtype)\n",
    "    else:\n",
    "        BFdata[\"G02Affection[SQ0\"+str(i)+\"]_encoded\"] = BFdata[\"G02Affection[SQ0\"+str(i)+\"]\"].replace(scale)\n",
    "        BFdata[\"G02Affection[SQ0\"+str(i)+\"]\"] = BFdata[\"G02Affection[SQ0\"+str(i)+\"]\"].astype(likert_dtype)\n",
    "\n",
    "\n",
    "\n",
    "# Cognitive\n",
    "for i in CognitiveNormalScaleQuestionID:\n",
    "    if(i<10):\n",
    "        BFdata[\"G03Cognitive[SQ00\"+str(i)+\"]_encoded\"] = BFdata[\"G03Cognitive[SQ00\"+str(i)+\"]\"].replace(scale)\n",
    "        BFdata[\"G03Cognitive[SQ00\"+str(i)+\"]\"] = BFdata[\"G03Cognitive[SQ00\"+str(i)+\"]\"].astype(likert_dtype)\n",
    "    else:\n",
    "        BFdata[\"G03Cognitive[SQ0\"+str(i)+\"]_encoded\"] = BFdata[\"G03Cognitive[SQ0\"+str(i)+\"]\"].replace(scale)\n",
    "        BFdata[\"G03Cognitive[SQ0\"+str(i)+\"]\"] = BFdata[\"G03Cognitive[SQ0\"+str(i)+\"]\"].astype(likert_dtype)\n",
    "\n",
    "for i in CognitiveInvertedScaleQuestionID:\n",
    "    if(i<10):\n",
    "        BFdata[\"G03Cognitive[SQ00\"+str(i)+\"]_encoded\"] = BFdata[\"G03Cognitive[SQ00\"+str(i)+\"]\"].replace(scaleInverted)\n",
    "        BFdata[\"G03Cognitive[SQ00\"+str(i)+\"]\"] = BFdata[\"G03Cognitive[SQ00\"+str(i)+\"]\"].astype(likert_dtype)\n",
    "    else:\n",
    "        BFdata[\"G03Cognitive[SQ0\"+str(i)+\"]_encoded\"] = BFdata[\"G03Cognitive[SQ0\"+str(i)+\"]\"].replace(scaleInverted)\n",
    "        BFdata[\"G03Cognitive[SQ0\"+str(i)+\"]\"] = BFdata[\"G03Cognitive[SQ0\"+str(i)+\"]\"].astype(likert_dtype)\n"
   ]
  },
  {
   "cell_type": "markdown",
   "metadata": {},
   "source": [
    "## Demographic data"
   ]
  },
  {
   "cell_type": "markdown",
   "metadata": {},
   "source": [
    "### Gender repartition "
   ]
  },
  {
   "cell_type": "code",
   "execution_count": 7,
   "metadata": {},
   "outputs": [
    {
     "data": {
      "text/html": [
       "<div>\n",
       "<style scoped>\n",
       "    .dataframe tbody tr th:only-of-type {\n",
       "        vertical-align: middle;\n",
       "    }\n",
       "\n",
       "    .dataframe tbody tr th {\n",
       "        vertical-align: top;\n",
       "    }\n",
       "\n",
       "    .dataframe thead th {\n",
       "        text-align: right;\n",
       "    }\n",
       "</style>\n",
       "<table border=\"1\" class=\"dataframe\">\n",
       "  <thead>\n",
       "    <tr style=\"text-align: right;\">\n",
       "      <th></th>\n",
       "      <th>count</th>\n",
       "      <th>mean</th>\n",
       "      <th>std</th>\n",
       "      <th>min</th>\n",
       "      <th>25%</th>\n",
       "      <th>50%</th>\n",
       "      <th>75%</th>\n",
       "      <th>max</th>\n",
       "    </tr>\n",
       "    <tr>\n",
       "      <th>G05Q07</th>\n",
       "      <th></th>\n",
       "      <th></th>\n",
       "      <th></th>\n",
       "      <th></th>\n",
       "      <th></th>\n",
       "      <th></th>\n",
       "      <th></th>\n",
       "      <th></th>\n",
       "    </tr>\n",
       "  </thead>\n",
       "  <tbody>\n",
       "    <tr>\n",
       "      <th>Femme</th>\n",
       "      <td>5.0</td>\n",
       "      <td>37.400000</td>\n",
       "      <td>10.737784</td>\n",
       "      <td>27.0</td>\n",
       "      <td>29.0</td>\n",
       "      <td>34.0</td>\n",
       "      <td>45.0</td>\n",
       "      <td>52.0</td>\n",
       "    </tr>\n",
       "    <tr>\n",
       "      <th>Homme</th>\n",
       "      <td>9.0</td>\n",
       "      <td>32.111111</td>\n",
       "      <td>10.925251</td>\n",
       "      <td>22.0</td>\n",
       "      <td>23.0</td>\n",
       "      <td>28.0</td>\n",
       "      <td>35.0</td>\n",
       "      <td>53.0</td>\n",
       "    </tr>\n",
       "  </tbody>\n",
       "</table>\n",
       "</div>"
      ],
      "text/plain": [
       "        count       mean        std   min   25%   50%   75%   max\n",
       "G05Q07                                                           \n",
       "Femme     5.0  37.400000  10.737784  27.0  29.0  34.0  45.0  52.0\n",
       "Homme     9.0  32.111111  10.925251  22.0  23.0  28.0  35.0  53.0"
      ]
     },
     "execution_count": 7,
     "metadata": {},
     "output_type": "execute_result"
    }
   ],
   "source": [
    "BFdata.groupby([\"G05Q07\"])[\"G01Q08\"].describe()"
   ]
  },
  {
   "cell_type": "markdown",
   "metadata": {},
   "source": [
    "### Age repartition"
   ]
  },
  {
   "cell_type": "code",
   "execution_count": 8,
   "metadata": {},
   "outputs": [
    {
     "data": {
      "text/plain": [
       "count    14.000000\n",
       "mean     34.000000\n",
       "std      10.763185\n",
       "min      22.000000\n",
       "25%      25.500000\n",
       "50%      31.500000\n",
       "75%      42.500000\n",
       "max      53.000000\n",
       "Name: G01Q08, dtype: float64"
      ]
     },
     "execution_count": 8,
     "metadata": {},
     "output_type": "execute_result"
    }
   ],
   "source": [
    "BFdata[\"G01Q08\"].describe()"
   ]
  },
  {
   "cell_type": "code",
   "execution_count": 9,
   "metadata": {},
   "outputs": [],
   "source": [
    "BFdata[\"Age_enco\"] = pd.cut(BFdata[\"G01Q08\"],bins=[0,25,40,99],labels=['<25 y.o','25 to 40 y.o.','>40 y.o.'])"
   ]
  },
  {
   "cell_type": "code",
   "execution_count": 10,
   "metadata": {},
   "outputs": [
    {
     "data": {
      "text/plain": [
       "25 to 40 y.o.    6\n",
       "<25 y.o          4\n",
       ">40 y.o.         4\n",
       "Name: Age_enco, dtype: int64"
      ]
     },
     "execution_count": 10,
     "metadata": {},
     "output_type": "execute_result"
    }
   ],
   "source": [
    "BFdata[\"Age_enco\"].value_counts()"
   ]
  },
  {
   "cell_type": "markdown",
   "metadata": {},
   "source": [
    "### Experience"
   ]
  },
  {
   "cell_type": "code",
   "execution_count": 11,
   "metadata": {},
   "outputs": [
    {
     "data": {
      "text/plain": [
       "0     25\n",
       "1     23\n",
       "2      7\n",
       "3     22\n",
       "4      2\n",
       "5      5\n",
       "6      0\n",
       "7      0\n",
       "8      5\n",
       "9     10\n",
       "10    15\n",
       "11     7\n",
       "12     6\n",
       "13     0\n",
       "Name: G01Q10, dtype: int64"
      ]
     },
     "execution_count": 11,
     "metadata": {},
     "output_type": "execute_result"
    }
   ],
   "source": [
    "BFdata[ \"G01Q10\"]"
   ]
  },
  {
   "cell_type": "code",
   "execution_count": 12,
   "metadata": {},
   "outputs": [
    {
     "data": {
      "text/plain": [
       "count    14.000000\n",
       "mean      9.071429\n",
       "std       8.765880\n",
       "min       0.000000\n",
       "25%       2.750000\n",
       "50%       6.500000\n",
       "75%      13.750000\n",
       "max      25.000000\n",
       "Name: G01Q10, dtype: float64"
      ]
     },
     "execution_count": 12,
     "metadata": {},
     "output_type": "execute_result"
    }
   ],
   "source": [
    "BFdata[\"G01Q10\"].describe()"
   ]
  },
  {
   "cell_type": "markdown",
   "metadata": {},
   "source": [
    "### Technical experience"
   ]
  },
  {
   "cell_type": "code",
   "execution_count": 13,
   "metadata": {},
   "outputs": [
    {
     "data": {
      "image/png": "[encoded data removed]",
      "text/plain": [
       "<Figure size 640x480 with 1 Axes>"
      ]
     },
     "metadata": {},
     "output_type": "display_data"
    }
   ],
   "source": [
    "BFdata[\"G01Q12\"].value_counts().sort_index().plot(kind=\"bar\")\n",
    "plt.show()"
   ]
  },
  {
   "cell_type": "code",
   "execution_count": 14,
   "metadata": {},
   "outputs": [
    {
     "data": {
      "text/plain": [
       "4    5\n",
       "3    5\n",
       "2    3\n",
       "1    1\n",
       "Name: G01Q12_encoded, dtype: int64"
      ]
     },
     "execution_count": 14,
     "metadata": {},
     "output_type": "execute_result"
    }
   ],
   "source": [
    "BFdata[\"G01Q12_encoded\"].value_counts()"
   ]
  },
  {
   "cell_type": "markdown",
   "metadata": {},
   "source": [
    "## Greek Computer Attitudes Scale"
   ]
  },
  {
   "cell_type": "code",
   "execution_count": 15,
   "metadata": {},
   "outputs": [
    {
     "data": {
      "text/plain": [
       "<AxesSubplot:>"
      ]
     },
     "execution_count": 15,
     "metadata": {},
     "output_type": "execute_result"
    },
    {
     "data": {
      "image/png": "[encoded data removed]",
      "text/plain": [
       "<Figure size 640x480 with 1 Axes>"
      ]
     },
     "metadata": {},
     "output_type": "display_data"
    }
   ],
   "source": [
    "BFdata[\"G01Confiance[SQ001]\"].value_counts().plot(kind=\"bar\")"
   ]
  },
  {
   "cell_type": "code",
   "execution_count": 16,
   "metadata": {},
   "outputs": [
    {
     "data": {
      "text/plain": [
       "Tout à fait d'accord    7\n",
       "D'accord                4\n",
       "Pas du tout d'accord    1\n",
       "Pas d'accord            1\n",
       "Un peu d'accord         1\n",
       "Name: G01Confiance[SQ001], dtype: int64"
      ]
     },
     "execution_count": 16,
     "metadata": {},
     "output_type": "execute_result"
    }
   ],
   "source": [
    "BFdata[\"G01Confiance[SQ001]\"].sort_values().value_counts()"
   ]
  },
  {
   "cell_type": "markdown",
   "metadata": {},
   "source": [
    "### Overall"
   ]
  },
  {
   "cell_type": "code",
   "execution_count": 17,
   "metadata": {},
   "outputs": [],
   "source": [
    "BFdata[\"Score\"] = BFdata[\"G01Confiance[SQ001]_encoded\"] + BFdata[\"G01Confiance[SQ002]_encoded\"] + BFdata[\"G01Confiance[SQ003]_encoded\"] + BFdata[\"G01Confiance[SQ004]_encoded\"] + BFdata[\"G01Confiance[SQ005]_encoded\"] + BFdata[\"G01Confiance[SQ006]_encoded\"] + BFdata[\"G01Confiance[SQ007]_encoded\"] + BFdata[\"G01Confiance[SQ008]_encoded\"] + BFdata[\"G01Confiance[SQ009]_encoded\"] + BFdata[\"G01Confiance[SQ010]_encoded\"] + BFdata[\"G01Confiance[SQ011]_encoded\"] + BFdata[\"G01Confiance[SQ012]_encoded\"] + BFdata[\"G01Confiance[SQ013]_encoded\"] + BFdata[\"G01Confiance[SQ014]_encoded\"] + BFdata[\"G01Confiance[SQ015]_encoded\"] + BFdata[\"G02Affection[SQ001]_encoded\"] + BFdata[\"G02Affection[SQ002]_encoded\"] + BFdata[\"G02Affection[SQ003]_encoded\"] + BFdata[\"G02Affection[SQ004]_encoded\"] + BFdata[\"G02Affection[SQ005]_encoded\"] + BFdata[\"G02Affection[SQ006]_encoded\"] + BFdata[\"G02Affection[SQ007]_encoded\"] + BFdata[\"G02Affection[SQ008]_encoded\"] + BFdata[\"G02Affection[SQ009]_encoded\"] + BFdata[\"G02Affection[SQ010]_encoded\"] + BFdata[\"G02Affection[SQ001]_encoded\"] + BFdata[\"G03Cognitive[SQ001]_encoded\"] + BFdata[\"G03Cognitive[SQ002]_encoded\"] + BFdata[\"G03Cognitive[SQ003]_encoded\"] + BFdata[\"G03Cognitive[SQ004]_encoded\"] + BFdata[\"G03Cognitive[SQ005]_encoded\"]"
   ]
  },
  {
   "cell_type": "code",
   "execution_count": 18,
   "metadata": {},
   "outputs": [
    {
     "data": {
      "text/html": [
       "<div>\n",
       "<style scoped>\n",
       "    .dataframe tbody tr th:only-of-type {\n",
       "        vertical-align: middle;\n",
       "    }\n",
       "\n",
       "    .dataframe tbody tr th {\n",
       "        vertical-align: top;\n",
       "    }\n",
       "\n",
       "    .dataframe thead th {\n",
       "        text-align: right;\n",
       "    }\n",
       "</style>\n",
       "<table border=\"1\" class=\"dataframe\">\n",
       "  <thead>\n",
       "    <tr style=\"text-align: right;\">\n",
       "      <th></th>\n",
       "      <th>Score</th>\n",
       "    </tr>\n",
       "  </thead>\n",
       "  <tbody>\n",
       "    <tr>\n",
       "      <th>count</th>\n",
       "      <td>14.000000</td>\n",
       "    </tr>\n",
       "    <tr>\n",
       "      <th>mean</th>\n",
       "      <td>119.785714</td>\n",
       "    </tr>\n",
       "    <tr>\n",
       "      <th>std</th>\n",
       "      <td>11.355640</td>\n",
       "    </tr>\n",
       "    <tr>\n",
       "      <th>min</th>\n",
       "      <td>90.000000</td>\n",
       "    </tr>\n",
       "    <tr>\n",
       "      <th>25%</th>\n",
       "      <td>115.750000</td>\n",
       "    </tr>\n",
       "    <tr>\n",
       "      <th>50%</th>\n",
       "      <td>120.500000</td>\n",
       "    </tr>\n",
       "    <tr>\n",
       "      <th>75%</th>\n",
       "      <td>127.750000</td>\n",
       "    </tr>\n",
       "    <tr>\n",
       "      <th>max</th>\n",
       "      <td>133.000000</td>\n",
       "    </tr>\n",
       "  </tbody>\n",
       "</table>\n",
       "</div>"
      ],
      "text/plain": [
       "            Score\n",
       "count   14.000000\n",
       "mean   119.785714\n",
       "std     11.355640\n",
       "min     90.000000\n",
       "25%    115.750000\n",
       "50%    120.500000\n",
       "75%    127.750000\n",
       "max    133.000000"
      ]
     },
     "execution_count": 18,
     "metadata": {},
     "output_type": "execute_result"
    }
   ],
   "source": [
    "BFdata.describe()[[\"Score\"]]"
   ]
  },
  {
   "cell_type": "markdown",
   "metadata": {},
   "source": [
    "#### Overall score by gender"
   ]
  },
  {
   "cell_type": "code",
   "execution_count": 19,
   "metadata": {},
   "outputs": [
    {
     "data": {
      "text/html": [
       "<div>\n",
       "<style scoped>\n",
       "    .dataframe tbody tr th:only-of-type {\n",
       "        vertical-align: middle;\n",
       "    }\n",
       "\n",
       "    .dataframe tbody tr th {\n",
       "        vertical-align: top;\n",
       "    }\n",
       "\n",
       "    .dataframe thead tr th {\n",
       "        text-align: left;\n",
       "    }\n",
       "\n",
       "    .dataframe thead tr:last-of-type th {\n",
       "        text-align: right;\n",
       "    }\n",
       "</style>\n",
       "<table border=\"1\" class=\"dataframe\">\n",
       "  <thead>\n",
       "    <tr>\n",
       "      <th></th>\n",
       "      <th colspan=\"8\" halign=\"left\">Score</th>\n",
       "    </tr>\n",
       "    <tr>\n",
       "      <th></th>\n",
       "      <th>count</th>\n",
       "      <th>mean</th>\n",
       "      <th>std</th>\n",
       "      <th>min</th>\n",
       "      <th>25%</th>\n",
       "      <th>50%</th>\n",
       "      <th>75%</th>\n",
       "      <th>max</th>\n",
       "    </tr>\n",
       "    <tr>\n",
       "      <th>G05Q07</th>\n",
       "      <th></th>\n",
       "      <th></th>\n",
       "      <th></th>\n",
       "      <th></th>\n",
       "      <th></th>\n",
       "      <th></th>\n",
       "      <th></th>\n",
       "      <th></th>\n",
       "    </tr>\n",
       "  </thead>\n",
       "  <tbody>\n",
       "    <tr>\n",
       "      <th>Femme</th>\n",
       "      <td>5.0</td>\n",
       "      <td>111.800000</td>\n",
       "      <td>12.930584</td>\n",
       "      <td>90.0</td>\n",
       "      <td>110.0</td>\n",
       "      <td>118.0</td>\n",
       "      <td>120.0</td>\n",
       "      <td>121.0</td>\n",
       "    </tr>\n",
       "    <tr>\n",
       "      <th>Homme</th>\n",
       "      <td>9.0</td>\n",
       "      <td>124.222222</td>\n",
       "      <td>7.996527</td>\n",
       "      <td>111.0</td>\n",
       "      <td>119.0</td>\n",
       "      <td>124.0</td>\n",
       "      <td>131.0</td>\n",
       "      <td>133.0</td>\n",
       "    </tr>\n",
       "  </tbody>\n",
       "</table>\n",
       "</div>"
      ],
      "text/plain": [
       "       Score                                                          \n",
       "       count        mean        std    min    25%    50%    75%    max\n",
       "G05Q07                                                                \n",
       "Femme    5.0  111.800000  12.930584   90.0  110.0  118.0  120.0  121.0\n",
       "Homme    9.0  124.222222   7.996527  111.0  119.0  124.0  131.0  133.0"
      ]
     },
     "execution_count": 19,
     "metadata": {},
     "output_type": "execute_result"
    }
   ],
   "source": [
    "BFdata.groupby([\"G05Q07\"]).describe()[[\"Score\"]]"
   ]
  },
  {
   "cell_type": "code",
   "execution_count": 20,
   "metadata": {},
   "outputs": [
    {
     "data": {
      "text/plain": [
       "Ttest_indResult(statistic=-1.95088186814489, pvalue=0.10102678334372646)"
      ]
     },
     "execution_count": 20,
     "metadata": {},
     "output_type": "execute_result"
    }
   ],
   "source": [
    "stats.ttest_ind(a=BFdata[BFdata[\"G05Q07\"] == \"Femme\"][\"Score\"], b=BFdata[BFdata[\"G05Q07\"] == \"Homme\"][\"Score\"], equal_var=False)"
   ]
  },
  {
   "cell_type": "markdown",
   "metadata": {},
   "source": [
    "According to the results of symmetric Student test (p>0.05), mean score at the Greek Computer Attitudes Scale is not different between men and women"
   ]
  },
  {
   "cell_type": "code",
   "execution_count": 21,
   "metadata": {},
   "outputs": [
    {
     "data": {
      "text/plain": [
       "Ttest_indResult(statistic=-1.95088186814489, pvalue=0.05051339167186323)"
      ]
     },
     "execution_count": 21,
     "metadata": {},
     "output_type": "execute_result"
    }
   ],
   "source": [
    "stats.ttest_ind(a=BFdata[BFdata[\"G05Q07\"] == \"Femme\"][\"Score\"], b=BFdata[BFdata[\"G05Q07\"] == \"Homme\"][\"Score\"], equal_var=False, alternative=\"less\")"
   ]
  },
  {
   "cell_type": "code",
   "execution_count": 22,
   "metadata": {},
   "outputs": [
    {
     "data": {
      "text/plain": [
       "MannwhitneyuResult(statistic=8.0, pvalue=0.05994005994005994)"
      ]
     },
     "execution_count": 22,
     "metadata": {},
     "output_type": "execute_result"
    }
   ],
   "source": [
    "stats.mannwhitneyu(BFdata[BFdata[\"G05Q07\"] == \"Femme\"][\"Score\"], BFdata[BFdata[\"G05Q07\"] == \"Homme\"][\"Score\"], method=\"exact\")"
   ]
  },
  {
   "cell_type": "code",
   "execution_count": 23,
   "metadata": {},
   "outputs": [
    {
     "data": {
      "text/plain": [
       "MannwhitneyuResult(statistic=8.0, pvalue=0.02997002997002997)"
      ]
     },
     "execution_count": 23,
     "metadata": {},
     "output_type": "execute_result"
    }
   ],
   "source": [
    "stats.mannwhitneyu(BFdata[BFdata[\"G05Q07\"] == \"Femme\"][\"Score\"], BFdata[BFdata[\"G05Q07\"] == \"Homme\"][\"Score\"], method=\"exact\", alternative=\"less\")"
   ]
  },
  {
   "cell_type": "code",
   "execution_count": 77,
   "metadata": {},
   "outputs": [
    {
     "data": {
      "text/plain": [
       "1.2525166071728633"
      ]
     },
     "execution_count": 77,
     "metadata": {},
     "output_type": "execute_result"
    }
   ],
   "source": [
    "cohend(BFdata[BFdata[\"G05Q07\"] == \"Homme\"][\"Score\"], BFdata[BFdata[\"G05Q07\"] == \"Femme\"][\"Score\"])"
   ]
  },
  {
   "cell_type": "markdown",
   "metadata": {},
   "source": [
    "#### Overall score by age"
   ]
  },
  {
   "cell_type": "code",
   "execution_count": 24,
   "metadata": {},
   "outputs": [
    {
     "data": {
      "text/html": [
       "<div>\n",
       "<style scoped>\n",
       "    .dataframe tbody tr th:only-of-type {\n",
       "        vertical-align: middle;\n",
       "    }\n",
       "\n",
       "    .dataframe tbody tr th {\n",
       "        vertical-align: top;\n",
       "    }\n",
       "\n",
       "    .dataframe thead tr th {\n",
       "        text-align: left;\n",
       "    }\n",
       "\n",
       "    .dataframe thead tr:last-of-type th {\n",
       "        text-align: right;\n",
       "    }\n",
       "</style>\n",
       "<table border=\"1\" class=\"dataframe\">\n",
       "  <thead>\n",
       "    <tr>\n",
       "      <th></th>\n",
       "      <th colspan=\"8\" halign=\"left\">Score</th>\n",
       "    </tr>\n",
       "    <tr>\n",
       "      <th></th>\n",
       "      <th>count</th>\n",
       "      <th>mean</th>\n",
       "      <th>std</th>\n",
       "      <th>min</th>\n",
       "      <th>25%</th>\n",
       "      <th>50%</th>\n",
       "      <th>75%</th>\n",
       "      <th>max</th>\n",
       "    </tr>\n",
       "    <tr>\n",
       "      <th>Age_enco</th>\n",
       "      <th></th>\n",
       "      <th></th>\n",
       "      <th></th>\n",
       "      <th></th>\n",
       "      <th></th>\n",
       "      <th></th>\n",
       "      <th></th>\n",
       "      <th></th>\n",
       "    </tr>\n",
       "  </thead>\n",
       "  <tbody>\n",
       "    <tr>\n",
       "      <th>&lt;25 y.o</th>\n",
       "      <td>4.0</td>\n",
       "      <td>124.50</td>\n",
       "      <td>7.187953</td>\n",
       "      <td>115.0</td>\n",
       "      <td>121.00</td>\n",
       "      <td>126.0</td>\n",
       "      <td>129.50</td>\n",
       "      <td>131.0</td>\n",
       "    </tr>\n",
       "    <tr>\n",
       "      <th>25 to 40 y.o.</th>\n",
       "      <td>6.0</td>\n",
       "      <td>124.00</td>\n",
       "      <td>7.042727</td>\n",
       "      <td>118.0</td>\n",
       "      <td>119.25</td>\n",
       "      <td>120.5</td>\n",
       "      <td>130.00</td>\n",
       "      <td>133.0</td>\n",
       "    </tr>\n",
       "    <tr>\n",
       "      <th>&gt;40 y.o.</th>\n",
       "      <td>4.0</td>\n",
       "      <td>108.75</td>\n",
       "      <td>14.032700</td>\n",
       "      <td>90.0</td>\n",
       "      <td>105.00</td>\n",
       "      <td>110.5</td>\n",
       "      <td>114.25</td>\n",
       "      <td>124.0</td>\n",
       "    </tr>\n",
       "  </tbody>\n",
       "</table>\n",
       "</div>"
      ],
      "text/plain": [
       "              Score                                                        \n",
       "              count    mean        std    min     25%    50%     75%    max\n",
       "Age_enco                                                                   \n",
       "<25 y.o         4.0  124.50   7.187953  115.0  121.00  126.0  129.50  131.0\n",
       "25 to 40 y.o.   6.0  124.00   7.042727  118.0  119.25  120.5  130.00  133.0\n",
       ">40 y.o.        4.0  108.75  14.032700   90.0  105.00  110.5  114.25  124.0"
      ]
     },
     "execution_count": 24,
     "metadata": {},
     "output_type": "execute_result"
    }
   ],
   "source": [
    "BFdata.groupby([\"Age_enco\"]).describe()[[\"Score\"]]"
   ]
  },
  {
   "cell_type": "code",
   "execution_count": 25,
   "metadata": {},
   "outputs": [
    {
     "data": {
      "text/plain": [
       "Ttest_indResult(statistic=0.10863577182740045, pvalue=0.9167795397582554)"
      ]
     },
     "execution_count": 25,
     "metadata": {},
     "output_type": "execute_result"
    }
   ],
   "source": [
    "stats.ttest_ind(a=BFdata[BFdata[\"Age_enco\"] == \"<25 y.o\"][\"Score\"], b=BFdata[BFdata[\"Age_enco\"] == \"25 to 40 y.o.\"][\"Score\"], equal_var=False)"
   ]
  },
  {
   "cell_type": "code",
   "execution_count": 26,
   "metadata": {},
   "outputs": [
    {
     "data": {
      "text/plain": [
       "Ttest_indResult(statistic=2.0111833141379454, pvalue=0.11422349584843951)"
      ]
     },
     "execution_count": 26,
     "metadata": {},
     "output_type": "execute_result"
    }
   ],
   "source": [
    "stats.ttest_ind(a=BFdata[BFdata[\"Age_enco\"] == \"25 to 40 y.o.\"][\"Score\"], b=BFdata[BFdata[\"Age_enco\"] == \">40 y.o.\"][\"Score\"], equal_var=False,)"
   ]
  },
  {
   "cell_type": "code",
   "execution_count": 27,
   "metadata": {},
   "outputs": [
    {
     "data": {
      "text/plain": [
       "Ttest_indResult(statistic=1.997903695208268, pvalue=0.10891613883473408)"
      ]
     },
     "execution_count": 27,
     "metadata": {},
     "output_type": "execute_result"
    }
   ],
   "source": [
    "stats.ttest_ind(a=BFdata[BFdata[\"Age_enco\"] == \"<25 y.o\"][\"Score\"], b=BFdata[BFdata[\"Age_enco\"] == \">40 y.o.\"][\"Score\"], equal_var=False,)"
   ]
  },
  {
   "cell_type": "code",
   "execution_count": 28,
   "metadata": {},
   "outputs": [
    {
     "data": {
      "text/plain": [
       "KruskalResult(statistic=3.9324522760646112, pvalue=0.13998414146593127)"
      ]
     },
     "execution_count": 28,
     "metadata": {},
     "output_type": "execute_result"
    }
   ],
   "source": [
    "stats.kruskal(BFdata[BFdata[\"Age_enco\"] == \"<25 y.o\"][\"Score\"], BFdata[BFdata[\"Age_enco\"] == \"25 to 40 y.o.\"][\"Score\"], BFdata[BFdata[\"Age_enco\"] == \">40 y.o.\"][\"Score\"])"
   ]
  },
  {
   "cell_type": "markdown",
   "metadata": {},
   "source": [
    "#### Overall Score by technical group"
   ]
  },
  {
   "cell_type": "code",
   "execution_count": 29,
   "metadata": {},
   "outputs": [
    {
     "data": {
      "text/html": [
       "<div>\n",
       "<style scoped>\n",
       "    .dataframe tbody tr th:only-of-type {\n",
       "        vertical-align: middle;\n",
       "    }\n",
       "\n",
       "    .dataframe tbody tr th {\n",
       "        vertical-align: top;\n",
       "    }\n",
       "\n",
       "    .dataframe thead th {\n",
       "        text-align: right;\n",
       "    }\n",
       "</style>\n",
       "<table border=\"1\" class=\"dataframe\">\n",
       "  <thead>\n",
       "    <tr style=\"text-align: right;\">\n",
       "      <th></th>\n",
       "      <th>count</th>\n",
       "      <th>mean</th>\n",
       "      <th>std</th>\n",
       "      <th>min</th>\n",
       "      <th>25%</th>\n",
       "      <th>50%</th>\n",
       "      <th>75%</th>\n",
       "      <th>max</th>\n",
       "    </tr>\n",
       "    <tr>\n",
       "      <th>G01Q12_encoded</th>\n",
       "      <th></th>\n",
       "      <th></th>\n",
       "      <th></th>\n",
       "      <th></th>\n",
       "      <th></th>\n",
       "      <th></th>\n",
       "      <th></th>\n",
       "      <th></th>\n",
       "    </tr>\n",
       "  </thead>\n",
       "  <tbody>\n",
       "    <tr>\n",
       "      <th>1</th>\n",
       "      <td>1.0</td>\n",
       "      <td>119.000000</td>\n",
       "      <td>NaN</td>\n",
       "      <td>119.0</td>\n",
       "      <td>119.0</td>\n",
       "      <td>119.0</td>\n",
       "      <td>119.0</td>\n",
       "      <td>119.0</td>\n",
       "    </tr>\n",
       "    <tr>\n",
       "      <th>2</th>\n",
       "      <td>3.0</td>\n",
       "      <td>106.333333</td>\n",
       "      <td>14.571662</td>\n",
       "      <td>90.0</td>\n",
       "      <td>100.5</td>\n",
       "      <td>111.0</td>\n",
       "      <td>114.5</td>\n",
       "      <td>118.0</td>\n",
       "    </tr>\n",
       "    <tr>\n",
       "      <th>3</th>\n",
       "      <td>5.0</td>\n",
       "      <td>122.000000</td>\n",
       "      <td>5.830952</td>\n",
       "      <td>115.0</td>\n",
       "      <td>120.0</td>\n",
       "      <td>121.0</td>\n",
       "      <td>123.0</td>\n",
       "      <td>131.0</td>\n",
       "    </tr>\n",
       "    <tr>\n",
       "      <th>4</th>\n",
       "      <td>5.0</td>\n",
       "      <td>125.800000</td>\n",
       "      <td>9.576012</td>\n",
       "      <td>110.0</td>\n",
       "      <td>124.0</td>\n",
       "      <td>129.0</td>\n",
       "      <td>133.0</td>\n",
       "      <td>133.0</td>\n",
       "    </tr>\n",
       "  </tbody>\n",
       "</table>\n",
       "</div>"
      ],
      "text/plain": [
       "                count        mean        std    min    25%    50%    75%  \\\n",
       "G01Q12_encoded                                                             \n",
       "1                 1.0  119.000000        NaN  119.0  119.0  119.0  119.0   \n",
       "2                 3.0  106.333333  14.571662   90.0  100.5  111.0  114.5   \n",
       "3                 5.0  122.000000   5.830952  115.0  120.0  121.0  123.0   \n",
       "4                 5.0  125.800000   9.576012  110.0  124.0  129.0  133.0   \n",
       "\n",
       "                  max  \n",
       "G01Q12_encoded         \n",
       "1               119.0  \n",
       "2               118.0  \n",
       "3               131.0  \n",
       "4               133.0  "
      ]
     },
     "execution_count": 29,
     "metadata": {},
     "output_type": "execute_result"
    }
   ],
   "source": [
    "BFdata.groupby([\"G01Q12_encoded\"]).describe()[\"Score\"]"
   ]
  },
  {
   "cell_type": "code",
   "execution_count": 30,
   "metadata": {},
   "outputs": [
    {
     "data": {
      "text/plain": [
       "F_onewayResult(statistic=4.033706374131908, pvalue=0.051942179601186876)"
      ]
     },
     "execution_count": 30,
     "metadata": {},
     "output_type": "execute_result"
    }
   ],
   "source": [
    "stats.f_oneway( BFdata.loc[BFdata[\"G01Q12_encoded\"] ==2]['Score'], BFdata.loc[BFdata[\"G01Q12_encoded\"] ==3]['Score'], BFdata.loc[BFdata[\"G01Q12_encoded\"] ==4]['Score']  )"
   ]
  },
  {
   "cell_type": "code",
   "execution_count": 31,
   "metadata": {},
   "outputs": [
    {
     "data": {
      "text/plain": [
       "KruskalResult(statistic=4.78677685950413, pvalue=0.0913197285579568)"
      ]
     },
     "execution_count": 31,
     "metadata": {},
     "output_type": "execute_result"
    }
   ],
   "source": [
    "stats.kruskal(BFdata.loc[BFdata[\"G01Q12_encoded\"] ==2]['Score'], BFdata.loc[BFdata[\"G01Q12_encoded\"] ==3]['Score'], BFdata.loc[BFdata[\"G01Q12_encoded\"] ==4]['Score']  )"
   ]
  },
  {
   "cell_type": "code",
   "execution_count": 78,
   "metadata": {},
   "outputs": [
    {
     "data": {
      "text/plain": [
       "KruskalResult(statistic=1.8581352833638003, pvalue=0.3949217473499112)"
      ]
     },
     "execution_count": 78,
     "metadata": {},
     "output_type": "execute_result"
    }
   ],
   "source": [
    "stats.kruskal(BFdata.loc[BFdata[\"G01Q12_encoded\"] ==3]['Score'], BFdata.loc[BFdata[\"G01Q12_encoded\"] ==4]['Score'], BFdata.loc[BFdata[\"G01Q12_encoded\"] ==4]['Score']  )"
   ]
  },
  {
   "cell_type": "markdown",
   "metadata": {},
   "source": [
    "### Confidence"
   ]
  },
  {
   "cell_type": "code",
   "execution_count": 32,
   "metadata": {},
   "outputs": [],
   "source": [
    "BFdata[\"Confiance\"] = BFdata[\"G01Confiance[SQ001]_encoded\"] + BFdata[\"G01Confiance[SQ002]_encoded\"] + BFdata[\"G01Confiance[SQ003]_encoded\"] + BFdata[\"G01Confiance[SQ004]_encoded\"] + BFdata[\"G01Confiance[SQ005]_encoded\"] + BFdata[\"G01Confiance[SQ006]_encoded\"] + BFdata[\"G01Confiance[SQ007]_encoded\"] + BFdata[\"G01Confiance[SQ008]_encoded\"] + BFdata[\"G01Confiance[SQ009]_encoded\"] + BFdata[\"G01Confiance[SQ010]_encoded\"] + BFdata[\"G01Confiance[SQ011]_encoded\"] + BFdata[\"G01Confiance[SQ012]_encoded\"] + BFdata[\"G01Confiance[SQ013]_encoded\"] + BFdata[\"G01Confiance[SQ014]_encoded\"] + BFdata[\"G01Confiance[SQ015]_encoded\"]"
   ]
  },
  {
   "cell_type": "code",
   "execution_count": 33,
   "metadata": {},
   "outputs": [
    {
     "data": {
      "text/html": [
       "<div>\n",
       "<style scoped>\n",
       "    .dataframe tbody tr th:only-of-type {\n",
       "        vertical-align: middle;\n",
       "    }\n",
       "\n",
       "    .dataframe tbody tr th {\n",
       "        vertical-align: top;\n",
       "    }\n",
       "\n",
       "    .dataframe thead th {\n",
       "        text-align: right;\n",
       "    }\n",
       "</style>\n",
       "<table border=\"1\" class=\"dataframe\">\n",
       "  <thead>\n",
       "    <tr style=\"text-align: right;\">\n",
       "      <th></th>\n",
       "      <th>Confiance</th>\n",
       "    </tr>\n",
       "  </thead>\n",
       "  <tbody>\n",
       "    <tr>\n",
       "      <th>count</th>\n",
       "      <td>14.000000</td>\n",
       "    </tr>\n",
       "    <tr>\n",
       "      <th>mean</th>\n",
       "      <td>52.428571</td>\n",
       "    </tr>\n",
       "    <tr>\n",
       "      <th>std</th>\n",
       "      <td>6.381636</td>\n",
       "    </tr>\n",
       "    <tr>\n",
       "      <th>min</th>\n",
       "      <td>38.000000</td>\n",
       "    </tr>\n",
       "    <tr>\n",
       "      <th>25%</th>\n",
       "      <td>50.250000</td>\n",
       "    </tr>\n",
       "    <tr>\n",
       "      <th>50%</th>\n",
       "      <td>53.000000</td>\n",
       "    </tr>\n",
       "    <tr>\n",
       "      <th>75%</th>\n",
       "      <td>58.000000</td>\n",
       "    </tr>\n",
       "    <tr>\n",
       "      <th>max</th>\n",
       "      <td>60.000000</td>\n",
       "    </tr>\n",
       "  </tbody>\n",
       "</table>\n",
       "</div>"
      ],
      "text/plain": [
       "       Confiance\n",
       "count  14.000000\n",
       "mean   52.428571\n",
       "std     6.381636\n",
       "min    38.000000\n",
       "25%    50.250000\n",
       "50%    53.000000\n",
       "75%    58.000000\n",
       "max    60.000000"
      ]
     },
     "execution_count": 33,
     "metadata": {},
     "output_type": "execute_result"
    }
   ],
   "source": [
    "BFdata.describe()[[\"Confiance\"]]"
   ]
  },
  {
   "cell_type": "markdown",
   "metadata": {},
   "source": [
    "#### Confidence by gender"
   ]
  },
  {
   "cell_type": "code",
   "execution_count": 34,
   "metadata": {},
   "outputs": [
    {
     "data": {
      "text/html": [
       "<div>\n",
       "<style scoped>\n",
       "    .dataframe tbody tr th:only-of-type {\n",
       "        vertical-align: middle;\n",
       "    }\n",
       "\n",
       "    .dataframe tbody tr th {\n",
       "        vertical-align: top;\n",
       "    }\n",
       "\n",
       "    .dataframe thead tr th {\n",
       "        text-align: left;\n",
       "    }\n",
       "\n",
       "    .dataframe thead tr:last-of-type th {\n",
       "        text-align: right;\n",
       "    }\n",
       "</style>\n",
       "<table border=\"1\" class=\"dataframe\">\n",
       "  <thead>\n",
       "    <tr>\n",
       "      <th></th>\n",
       "      <th colspan=\"8\" halign=\"left\">Confiance</th>\n",
       "    </tr>\n",
       "    <tr>\n",
       "      <th></th>\n",
       "      <th>count</th>\n",
       "      <th>mean</th>\n",
       "      <th>std</th>\n",
       "      <th>min</th>\n",
       "      <th>25%</th>\n",
       "      <th>50%</th>\n",
       "      <th>75%</th>\n",
       "      <th>max</th>\n",
       "    </tr>\n",
       "    <tr>\n",
       "      <th>G05Q07</th>\n",
       "      <th></th>\n",
       "      <th></th>\n",
       "      <th></th>\n",
       "      <th></th>\n",
       "      <th></th>\n",
       "      <th></th>\n",
       "      <th></th>\n",
       "      <th></th>\n",
       "    </tr>\n",
       "  </thead>\n",
       "  <tbody>\n",
       "    <tr>\n",
       "      <th>Femme</th>\n",
       "      <td>5.0</td>\n",
       "      <td>48.200000</td>\n",
       "      <td>6.833740</td>\n",
       "      <td>38.0</td>\n",
       "      <td>45.0</td>\n",
       "      <td>50.0</td>\n",
       "      <td>53.0</td>\n",
       "      <td>55.0</td>\n",
       "    </tr>\n",
       "    <tr>\n",
       "      <th>Homme</th>\n",
       "      <td>9.0</td>\n",
       "      <td>54.777778</td>\n",
       "      <td>5.044249</td>\n",
       "      <td>45.0</td>\n",
       "      <td>51.0</td>\n",
       "      <td>58.0</td>\n",
       "      <td>58.0</td>\n",
       "      <td>60.0</td>\n",
       "    </tr>\n",
       "  </tbody>\n",
       "</table>\n",
       "</div>"
      ],
      "text/plain": [
       "       Confiance                                                   \n",
       "           count       mean       std   min   25%   50%   75%   max\n",
       "G05Q07                                                             \n",
       "Femme        5.0  48.200000  6.833740  38.0  45.0  50.0  53.0  55.0\n",
       "Homme        9.0  54.777778  5.044249  45.0  51.0  58.0  58.0  60.0"
      ]
     },
     "execution_count": 34,
     "metadata": {},
     "output_type": "execute_result"
    }
   ],
   "source": [
    "BFdata.groupby([\"G05Q07\"]).describe()[[\"Confiance\"]]"
   ]
  },
  {
   "cell_type": "code",
   "execution_count": 35,
   "metadata": {},
   "outputs": [
    {
     "data": {
      "image/png": "[encoded data removed]",
      "text/plain": [
       "<Figure size 640x480 with 1 Axes>"
      ]
     },
     "metadata": {},
     "output_type": "display_data"
    }
   ],
   "source": [
    "BFdata.groupby([\"G05Q07\"]).mean()[[\"Confiance\"]].plot(kind=\"bar\")\n",
    "plt.show()"
   ]
  },
  {
   "cell_type": "code",
   "execution_count": 36,
   "metadata": {},
   "outputs": [
    {
     "data": {
      "text/plain": [
       "Ttest_indResult(statistic=-1.885752008300202, pvalue=0.10459694289046129)"
      ]
     },
     "execution_count": 36,
     "metadata": {},
     "output_type": "execute_result"
    }
   ],
   "source": [
    "stats.ttest_ind(a=BFdata[BFdata[\"G05Q07\"] == \"Femme\"][\"Confiance\"], b=BFdata[BFdata[\"G05Q07\"] == \"Homme\"][\"Confiance\"], equal_var=False)"
   ]
  },
  {
   "cell_type": "markdown",
   "metadata": {},
   "source": [
    "According to the results of symmetric T-test (p>0.05), the null hypothesis of mean equality can not be rejected."
   ]
  },
  {
   "cell_type": "code",
   "execution_count": 37,
   "metadata": {},
   "outputs": [
    {
     "data": {
      "text/plain": [
       "Ttest_indResult(statistic=-1.885752008300202, pvalue=0.05229847144523064)"
      ]
     },
     "execution_count": 37,
     "metadata": {},
     "output_type": "execute_result"
    }
   ],
   "source": [
    "stats.ttest_ind(a=BFdata[BFdata[\"G05Q07\"] == \"Femme\"][\"Confiance\"], b=BFdata[BFdata[\"G05Q07\"] == \"Homme\"][\"Confiance\"], equal_var=False, alternative=\"less\")"
   ]
  },
  {
   "cell_type": "markdown",
   "metadata": {},
   "source": [
    "According to the results of unilateral T-test assuming women mean lower than men mean, the null hypothesis cannot be rejected. "
   ]
  },
  {
   "cell_type": "code",
   "execution_count": 38,
   "metadata": {},
   "outputs": [
    {
     "data": {
      "text/plain": [
       "MannwhitneyuResult(statistic=9.0, pvalue=0.041458541458541456)"
      ]
     },
     "execution_count": 38,
     "metadata": {},
     "output_type": "execute_result"
    }
   ],
   "source": [
    "stats.mannwhitneyu(BFdata[BFdata[\"G05Q07\"] == \"Femme\"][\"Confiance\"], BFdata[BFdata[\"G05Q07\"] == \"Homme\"][\"Confiance\"], method=\"exact\", alternative=\"less\")"
   ]
  },
  {
   "cell_type": "code",
   "execution_count": 79,
   "metadata": {},
   "outputs": [
    {
     "data": {
      "text/plain": [
       "1.1532929520260278"
      ]
     },
     "execution_count": 79,
     "metadata": {},
     "output_type": "execute_result"
    }
   ],
   "source": [
    "cohend(BFdata[BFdata[\"G05Q07\"] == \"Homme\"][\"Confiance\"], BFdata[BFdata[\"G05Q07\"] == \"Femme\"][\"Confiance\"])"
   ]
  },
  {
   "cell_type": "markdown",
   "metadata": {},
   "source": [
    "#### Confidence score by age"
   ]
  },
  {
   "cell_type": "code",
   "execution_count": 39,
   "metadata": {},
   "outputs": [
    {
     "data": {
      "text/html": [
       "<div>\n",
       "<style scoped>\n",
       "    .dataframe tbody tr th:only-of-type {\n",
       "        vertical-align: middle;\n",
       "    }\n",
       "\n",
       "    .dataframe tbody tr th {\n",
       "        vertical-align: top;\n",
       "    }\n",
       "\n",
       "    .dataframe thead tr th {\n",
       "        text-align: left;\n",
       "    }\n",
       "\n",
       "    .dataframe thead tr:last-of-type th {\n",
       "        text-align: right;\n",
       "    }\n",
       "</style>\n",
       "<table border=\"1\" class=\"dataframe\">\n",
       "  <thead>\n",
       "    <tr>\n",
       "      <th></th>\n",
       "      <th colspan=\"8\" halign=\"left\">Confiance</th>\n",
       "    </tr>\n",
       "    <tr>\n",
       "      <th></th>\n",
       "      <th>count</th>\n",
       "      <th>mean</th>\n",
       "      <th>std</th>\n",
       "      <th>min</th>\n",
       "      <th>25%</th>\n",
       "      <th>50%</th>\n",
       "      <th>75%</th>\n",
       "      <th>max</th>\n",
       "    </tr>\n",
       "    <tr>\n",
       "      <th>Age_enco</th>\n",
       "      <th></th>\n",
       "      <th></th>\n",
       "      <th></th>\n",
       "      <th></th>\n",
       "      <th></th>\n",
       "      <th></th>\n",
       "      <th></th>\n",
       "      <th></th>\n",
       "    </tr>\n",
       "  </thead>\n",
       "  <tbody>\n",
       "    <tr>\n",
       "      <th>&lt;25 y.o</th>\n",
       "      <td>4.0</td>\n",
       "      <td>56.50</td>\n",
       "      <td>3.696846</td>\n",
       "      <td>51.0</td>\n",
       "      <td>56.25</td>\n",
       "      <td>58.0</td>\n",
       "      <td>58.25</td>\n",
       "      <td>59.0</td>\n",
       "    </tr>\n",
       "    <tr>\n",
       "      <th>25 to 40 y.o.</th>\n",
       "      <td>6.0</td>\n",
       "      <td>54.50</td>\n",
       "      <td>3.937004</td>\n",
       "      <td>50.0</td>\n",
       "      <td>51.50</td>\n",
       "      <td>54.0</td>\n",
       "      <td>57.25</td>\n",
       "      <td>60.0</td>\n",
       "    </tr>\n",
       "    <tr>\n",
       "      <th>&gt;40 y.o.</th>\n",
       "      <td>4.0</td>\n",
       "      <td>45.25</td>\n",
       "      <td>6.130525</td>\n",
       "      <td>38.0</td>\n",
       "      <td>43.25</td>\n",
       "      <td>45.0</td>\n",
       "      <td>47.00</td>\n",
       "      <td>53.0</td>\n",
       "    </tr>\n",
       "  </tbody>\n",
       "</table>\n",
       "</div>"
      ],
      "text/plain": [
       "              Confiance                                                 \n",
       "                  count   mean       std   min    25%   50%    75%   max\n",
       "Age_enco                                                                \n",
       "<25 y.o             4.0  56.50  3.696846  51.0  56.25  58.0  58.25  59.0\n",
       "25 to 40 y.o.       6.0  54.50  3.937004  50.0  51.50  54.0  57.25  60.0\n",
       ">40 y.o.            4.0  45.25  6.130525  38.0  43.25  45.0  47.00  53.0"
      ]
     },
     "execution_count": 39,
     "metadata": {},
     "output_type": "execute_result"
    }
   ],
   "source": [
    "BFdata.groupby([\"Age_enco\"]).describe()[[\"Confiance\"]]"
   ]
  },
  {
   "cell_type": "code",
   "execution_count": 40,
   "metadata": {},
   "outputs": [
    {
     "data": {
      "text/plain": [
       "Ttest_indResult(statistic=0.8164965809277261, pvalue=0.4415324426950521)"
      ]
     },
     "execution_count": 40,
     "metadata": {},
     "output_type": "execute_result"
    }
   ],
   "source": [
    "stats.ttest_ind(a=BFdata[BFdata[\"Age_enco\"] == \"<25 y.o\"][\"Confiance\"], b=BFdata[BFdata[\"Age_enco\"] == \"25 to 40 y.o.\"][\"Confiance\"], equal_var=False)"
   ]
  },
  {
   "cell_type": "code",
   "execution_count": 41,
   "metadata": {},
   "outputs": [
    {
     "data": {
      "text/plain": [
       "Ttest_indResult(statistic=2.6725659385040763, pvalue=0.023724956135680687)"
      ]
     },
     "execution_count": 41,
     "metadata": {},
     "output_type": "execute_result"
    }
   ],
   "source": [
    "stats.ttest_ind(a=BFdata[BFdata[\"Age_enco\"] == \"25 to 40 y.o.\"][\"Confiance\"], b=BFdata[BFdata[\"Age_enco\"] == \">40 y.o.\"][\"Confiance\"], equal_var=False, alternative=\"greater\")"
   ]
  },
  {
   "cell_type": "code",
   "execution_count": 42,
   "metadata": {},
   "outputs": [
    {
     "data": {
      "text/plain": [
       "Ttest_indResult(statistic=3.1429363309631024, pvalue=0.013050191738390298)"
      ]
     },
     "execution_count": 42,
     "metadata": {},
     "output_type": "execute_result"
    }
   ],
   "source": [
    "stats.ttest_ind(a=BFdata[BFdata[\"Age_enco\"] == \"<25 y.o\"][\"Confiance\"], b=BFdata[BFdata[\"Age_enco\"] == \">40 y.o.\"][\"Confiance\"], equal_var=False, alternative=\"greater\")"
   ]
  },
  {
   "cell_type": "code",
   "execution_count": 43,
   "metadata": {},
   "outputs": [
    {
     "data": {
      "text/plain": [
       "KruskalResult(statistic=5.8978794642857135, pvalue=0.052395229486011476)"
      ]
     },
     "execution_count": 43,
     "metadata": {},
     "output_type": "execute_result"
    }
   ],
   "source": [
    "stats.kruskal(BFdata[BFdata[\"Age_enco\"] == \"<25 y.o\"][\"Confiance\"], BFdata[BFdata[\"Age_enco\"] == \"25 to 40 y.o.\"][\"Confiance\"], BFdata[BFdata[\"Age_enco\"] == \">40 y.o.\"][\"Confiance\"])"
   ]
  },
  {
   "cell_type": "markdown",
   "metadata": {},
   "source": [
    "#### Confidence Score by technical group"
   ]
  },
  {
   "cell_type": "code",
   "execution_count": 44,
   "metadata": {},
   "outputs": [
    {
     "data": {
      "text/html": [
       "<div>\n",
       "<style scoped>\n",
       "    .dataframe tbody tr th:only-of-type {\n",
       "        vertical-align: middle;\n",
       "    }\n",
       "\n",
       "    .dataframe tbody tr th {\n",
       "        vertical-align: top;\n",
       "    }\n",
       "\n",
       "    .dataframe thead th {\n",
       "        text-align: right;\n",
       "    }\n",
       "</style>\n",
       "<table border=\"1\" class=\"dataframe\">\n",
       "  <thead>\n",
       "    <tr style=\"text-align: right;\">\n",
       "      <th></th>\n",
       "      <th>count</th>\n",
       "      <th>mean</th>\n",
       "      <th>std</th>\n",
       "      <th>min</th>\n",
       "      <th>25%</th>\n",
       "      <th>50%</th>\n",
       "      <th>75%</th>\n",
       "      <th>max</th>\n",
       "    </tr>\n",
       "    <tr>\n",
       "      <th>G01Q12_encoded</th>\n",
       "      <th></th>\n",
       "      <th></th>\n",
       "      <th></th>\n",
       "      <th></th>\n",
       "      <th></th>\n",
       "      <th></th>\n",
       "      <th></th>\n",
       "      <th></th>\n",
       "    </tr>\n",
       "  </thead>\n",
       "  <tbody>\n",
       "    <tr>\n",
       "      <th>1</th>\n",
       "      <td>1.0</td>\n",
       "      <td>51.0</td>\n",
       "      <td>NaN</td>\n",
       "      <td>51.0</td>\n",
       "      <td>51.0</td>\n",
       "      <td>51.0</td>\n",
       "      <td>51.0</td>\n",
       "      <td>51.0</td>\n",
       "    </tr>\n",
       "    <tr>\n",
       "      <th>2</th>\n",
       "      <td>3.0</td>\n",
       "      <td>46.0</td>\n",
       "      <td>8.544004</td>\n",
       "      <td>38.0</td>\n",
       "      <td>41.5</td>\n",
       "      <td>45.0</td>\n",
       "      <td>50.0</td>\n",
       "      <td>55.0</td>\n",
       "    </tr>\n",
       "    <tr>\n",
       "      <th>3</th>\n",
       "      <td>5.0</td>\n",
       "      <td>54.2</td>\n",
       "      <td>4.086563</td>\n",
       "      <td>50.0</td>\n",
       "      <td>51.0</td>\n",
       "      <td>53.0</td>\n",
       "      <td>58.0</td>\n",
       "      <td>59.0</td>\n",
       "    </tr>\n",
       "    <tr>\n",
       "      <th>4</th>\n",
       "      <td>5.0</td>\n",
       "      <td>54.8</td>\n",
       "      <td>6.058052</td>\n",
       "      <td>45.0</td>\n",
       "      <td>53.0</td>\n",
       "      <td>58.0</td>\n",
       "      <td>58.0</td>\n",
       "      <td>60.0</td>\n",
       "    </tr>\n",
       "  </tbody>\n",
       "</table>\n",
       "</div>"
      ],
      "text/plain": [
       "                count  mean       std   min   25%   50%   75%   max\n",
       "G01Q12_encoded                                                     \n",
       "1                 1.0  51.0       NaN  51.0  51.0  51.0  51.0  51.0\n",
       "2                 3.0  46.0  8.544004  38.0  41.5  45.0  50.0  55.0\n",
       "3                 5.0  54.2  4.086563  50.0  51.0  53.0  58.0  59.0\n",
       "4                 5.0  54.8  6.058052  45.0  53.0  58.0  58.0  60.0"
      ]
     },
     "execution_count": 44,
     "metadata": {},
     "output_type": "execute_result"
    }
   ],
   "source": [
    "BFdata.groupby([\"G01Q12_encoded\"]).describe()[\"Confiance\"]"
   ]
  },
  {
   "cell_type": "code",
   "execution_count": 45,
   "metadata": {},
   "outputs": [
    {
     "data": {
      "text/plain": [
       "KruskalResult(statistic=3.147470238095236, pvalue=0.369442266635084)"
      ]
     },
     "execution_count": 45,
     "metadata": {},
     "output_type": "execute_result"
    }
   ],
   "source": [
    "stats.kruskal(BFdata.loc[BFdata[\"G01Q12_encoded\"] ==1]['Confiance'],BFdata.loc[BFdata[\"G01Q12_encoded\"] ==2]['Confiance'], BFdata.loc[BFdata[\"G01Q12_encoded\"] ==3]['Confiance'], BFdata.loc[BFdata[\"G01Q12_encoded\"] ==4]['Confiance']  )"
   ]
  },
  {
   "cell_type": "markdown",
   "metadata": {},
   "source": [
    "### Affective"
   ]
  },
  {
   "cell_type": "code",
   "execution_count": 46,
   "metadata": {},
   "outputs": [],
   "source": [
    "BFdata[\"Affection\"] = BFdata[\"G01Confiance[SQ014]_encoded\"] + BFdata[\"G02Affection[SQ001]_encoded\"] + BFdata[\"G02Affection[SQ002]_encoded\"] + BFdata[\"G02Affection[SQ003]_encoded\"] + BFdata[\"G02Affection[SQ004]_encoded\"] + BFdata[\"G02Affection[SQ005]_encoded\"] + BFdata[\"G02Affection[SQ006]_encoded\"] + BFdata[\"G02Affection[SQ007]_encoded\"] + BFdata[\"G02Affection[SQ008]_encoded\"] + BFdata[\"G02Affection[SQ009]_encoded\"] + BFdata[\"G02Affection[SQ010]_encoded\"]"
   ]
  },
  {
   "cell_type": "code",
   "execution_count": 47,
   "metadata": {},
   "outputs": [
    {
     "data": {
      "text/html": [
       "<div>\n",
       "<style scoped>\n",
       "    .dataframe tbody tr th:only-of-type {\n",
       "        vertical-align: middle;\n",
       "    }\n",
       "\n",
       "    .dataframe tbody tr th {\n",
       "        vertical-align: top;\n",
       "    }\n",
       "\n",
       "    .dataframe thead th {\n",
       "        text-align: right;\n",
       "    }\n",
       "</style>\n",
       "<table border=\"1\" class=\"dataframe\">\n",
       "  <thead>\n",
       "    <tr style=\"text-align: right;\">\n",
       "      <th></th>\n",
       "      <th>Affection</th>\n",
       "    </tr>\n",
       "  </thead>\n",
       "  <tbody>\n",
       "    <tr>\n",
       "      <th>count</th>\n",
       "      <td>14.000000</td>\n",
       "    </tr>\n",
       "    <tr>\n",
       "      <th>mean</th>\n",
       "      <td>45.500000</td>\n",
       "    </tr>\n",
       "    <tr>\n",
       "      <th>std</th>\n",
       "      <td>5.287867</td>\n",
       "    </tr>\n",
       "    <tr>\n",
       "      <th>min</th>\n",
       "      <td>33.000000</td>\n",
       "    </tr>\n",
       "    <tr>\n",
       "      <th>25%</th>\n",
       "      <td>42.250000</td>\n",
       "    </tr>\n",
       "    <tr>\n",
       "      <th>50%</th>\n",
       "      <td>46.000000</td>\n",
       "    </tr>\n",
       "    <tr>\n",
       "      <th>75%</th>\n",
       "      <td>48.750000</td>\n",
       "    </tr>\n",
       "    <tr>\n",
       "      <th>max</th>\n",
       "      <td>53.000000</td>\n",
       "    </tr>\n",
       "  </tbody>\n",
       "</table>\n",
       "</div>"
      ],
      "text/plain": [
       "       Affection\n",
       "count  14.000000\n",
       "mean   45.500000\n",
       "std     5.287867\n",
       "min    33.000000\n",
       "25%    42.250000\n",
       "50%    46.000000\n",
       "75%    48.750000\n",
       "max    53.000000"
      ]
     },
     "execution_count": 47,
     "metadata": {},
     "output_type": "execute_result"
    }
   ],
   "source": [
    "BFdata.describe()[[\"Affection\"]]"
   ]
  },
  {
   "cell_type": "markdown",
   "metadata": {},
   "source": [
    "#### Affective by gender"
   ]
  },
  {
   "cell_type": "code",
   "execution_count": 48,
   "metadata": {},
   "outputs": [
    {
     "data": {
      "text/html": [
       "<div>\n",
       "<style scoped>\n",
       "    .dataframe tbody tr th:only-of-type {\n",
       "        vertical-align: middle;\n",
       "    }\n",
       "\n",
       "    .dataframe tbody tr th {\n",
       "        vertical-align: top;\n",
       "    }\n",
       "\n",
       "    .dataframe thead tr th {\n",
       "        text-align: left;\n",
       "    }\n",
       "\n",
       "    .dataframe thead tr:last-of-type th {\n",
       "        text-align: right;\n",
       "    }\n",
       "</style>\n",
       "<table border=\"1\" class=\"dataframe\">\n",
       "  <thead>\n",
       "    <tr>\n",
       "      <th></th>\n",
       "      <th colspan=\"8\" halign=\"left\">Affection</th>\n",
       "    </tr>\n",
       "    <tr>\n",
       "      <th></th>\n",
       "      <th>count</th>\n",
       "      <th>mean</th>\n",
       "      <th>std</th>\n",
       "      <th>min</th>\n",
       "      <th>25%</th>\n",
       "      <th>50%</th>\n",
       "      <th>75%</th>\n",
       "      <th>max</th>\n",
       "    </tr>\n",
       "    <tr>\n",
       "      <th>G05Q07</th>\n",
       "      <th></th>\n",
       "      <th></th>\n",
       "      <th></th>\n",
       "      <th></th>\n",
       "      <th></th>\n",
       "      <th></th>\n",
       "      <th></th>\n",
       "      <th></th>\n",
       "    </tr>\n",
       "  </thead>\n",
       "  <tbody>\n",
       "    <tr>\n",
       "      <th>Femme</th>\n",
       "      <td>5.0</td>\n",
       "      <td>42.200000</td>\n",
       "      <td>5.761944</td>\n",
       "      <td>33.0</td>\n",
       "      <td>42.0</td>\n",
       "      <td>42.0</td>\n",
       "      <td>46.0</td>\n",
       "      <td>48.0</td>\n",
       "    </tr>\n",
       "    <tr>\n",
       "      <th>Homme</th>\n",
       "      <td>9.0</td>\n",
       "      <td>47.333333</td>\n",
       "      <td>4.272002</td>\n",
       "      <td>41.0</td>\n",
       "      <td>44.0</td>\n",
       "      <td>47.0</td>\n",
       "      <td>50.0</td>\n",
       "      <td>53.0</td>\n",
       "    </tr>\n",
       "  </tbody>\n",
       "</table>\n",
       "</div>"
      ],
      "text/plain": [
       "       Affection                                                   \n",
       "           count       mean       std   min   25%   50%   75%   max\n",
       "G05Q07                                                             \n",
       "Femme        5.0  42.200000  5.761944  33.0  42.0  42.0  46.0  48.0\n",
       "Homme        9.0  47.333333  4.272002  41.0  44.0  47.0  50.0  53.0"
      ]
     },
     "execution_count": 48,
     "metadata": {},
     "output_type": "execute_result"
    }
   ],
   "source": [
    "BFdata.groupby([\"G05Q07\"]).describe()[[\"Affection\"]]"
   ]
  },
  {
   "cell_type": "code",
   "execution_count": 49,
   "metadata": {},
   "outputs": [
    {
     "data": {
      "image/png": "[encoded data removed]",
      "text/plain": [
       "<Figure size 640x480 with 1 Axes>"
      ]
     },
     "metadata": {},
     "output_type": "display_data"
    }
   ],
   "source": [
    "BFdata.groupby([\"G05Q07\"]).mean()[[\"Affection\"]].plot(kind=\"bar\")\n",
    "plt.show()"
   ]
  },
  {
   "cell_type": "code",
   "execution_count": 50,
   "metadata": {},
   "outputs": [
    {
     "data": {
      "text/plain": [
       "Ttest_indResult(statistic=-1.7435948672630366, pvalue=0.1279497629023032)"
      ]
     },
     "execution_count": 50,
     "metadata": {},
     "output_type": "execute_result"
    }
   ],
   "source": [
    "stats.ttest_ind(a=BFdata[BFdata[\"G05Q07\"] == \"Femme\"][\"Affection\"], b=BFdata[BFdata[\"G05Q07\"] == \"Homme\"][\"Affection\"], equal_var=False)"
   ]
  },
  {
   "cell_type": "code",
   "execution_count": 51,
   "metadata": {},
   "outputs": [
    {
     "data": {
      "text/plain": [
       "Ttest_indResult(statistic=-1.7435948672630366, pvalue=0.0639748814511516)"
      ]
     },
     "execution_count": 51,
     "metadata": {},
     "output_type": "execute_result"
    }
   ],
   "source": [
    "stats.ttest_ind(a=BFdata[BFdata[\"G05Q07\"] == \"Femme\"][\"Affection\"], b=BFdata[BFdata[\"G05Q07\"] == \"Homme\"][\"Affection\"], equal_var=False, alternative=\"less\")"
   ]
  },
  {
   "cell_type": "code",
   "execution_count": 52,
   "metadata": {},
   "outputs": [
    {
     "data": {
      "text/plain": [
       "MannwhitneyuResult(statistic=10.5, pvalue=0.07342657342657342)"
      ]
     },
     "execution_count": 52,
     "metadata": {},
     "output_type": "execute_result"
    }
   ],
   "source": [
    "stats.mannwhitneyu(BFdata[BFdata[\"G05Q07\"] == \"Femme\"][\"Affection\"], BFdata[BFdata[\"G05Q07\"] == \"Homme\"][\"Affection\"], method=\"exact\", alternative=\"less\")"
   ]
  },
  {
   "cell_type": "markdown",
   "metadata": {},
   "source": [
    "#### Affection score per age group"
   ]
  },
  {
   "cell_type": "code",
   "execution_count": 53,
   "metadata": {},
   "outputs": [
    {
     "data": {
      "text/html": [
       "<div>\n",
       "<style scoped>\n",
       "    .dataframe tbody tr th:only-of-type {\n",
       "        vertical-align: middle;\n",
       "    }\n",
       "\n",
       "    .dataframe tbody tr th {\n",
       "        vertical-align: top;\n",
       "    }\n",
       "\n",
       "    .dataframe thead tr th {\n",
       "        text-align: left;\n",
       "    }\n",
       "\n",
       "    .dataframe thead tr:last-of-type th {\n",
       "        text-align: right;\n",
       "    }\n",
       "</style>\n",
       "<table border=\"1\" class=\"dataframe\">\n",
       "  <thead>\n",
       "    <tr>\n",
       "      <th></th>\n",
       "      <th colspan=\"8\" halign=\"left\">Affection</th>\n",
       "    </tr>\n",
       "    <tr>\n",
       "      <th></th>\n",
       "      <th>count</th>\n",
       "      <th>mean</th>\n",
       "      <th>std</th>\n",
       "      <th>min</th>\n",
       "      <th>25%</th>\n",
       "      <th>50%</th>\n",
       "      <th>75%</th>\n",
       "      <th>max</th>\n",
       "    </tr>\n",
       "    <tr>\n",
       "      <th>Age_enco</th>\n",
       "      <th></th>\n",
       "      <th></th>\n",
       "      <th></th>\n",
       "      <th></th>\n",
       "      <th></th>\n",
       "      <th></th>\n",
       "      <th></th>\n",
       "      <th></th>\n",
       "    </tr>\n",
       "  </thead>\n",
       "  <tbody>\n",
       "    <tr>\n",
       "      <th>&lt;25 y.o</th>\n",
       "      <td>4.0</td>\n",
       "      <td>45.00</td>\n",
       "      <td>3.651484</td>\n",
       "      <td>41.0</td>\n",
       "      <td>42.50</td>\n",
       "      <td>45.0</td>\n",
       "      <td>47.50</td>\n",
       "      <td>49.0</td>\n",
       "    </tr>\n",
       "    <tr>\n",
       "      <th>25 to 40 y.o.</th>\n",
       "      <td>6.0</td>\n",
       "      <td>48.00</td>\n",
       "      <td>4.335897</td>\n",
       "      <td>42.0</td>\n",
       "      <td>46.00</td>\n",
       "      <td>47.0</td>\n",
       "      <td>51.75</td>\n",
       "      <td>53.0</td>\n",
       "    </tr>\n",
       "    <tr>\n",
       "      <th>&gt;40 y.o.</th>\n",
       "      <td>4.0</td>\n",
       "      <td>42.25</td>\n",
       "      <td>7.041543</td>\n",
       "      <td>33.0</td>\n",
       "      <td>39.75</td>\n",
       "      <td>43.0</td>\n",
       "      <td>45.50</td>\n",
       "      <td>50.0</td>\n",
       "    </tr>\n",
       "  </tbody>\n",
       "</table>\n",
       "</div>"
      ],
      "text/plain": [
       "              Affection                                                 \n",
       "                  count   mean       std   min    25%   50%    75%   max\n",
       "Age_enco                                                                \n",
       "<25 y.o             4.0  45.00  3.651484  41.0  42.50  45.0  47.50  49.0\n",
       "25 to 40 y.o.       6.0  48.00  4.335897  42.0  46.00  47.0  51.75  53.0\n",
       ">40 y.o.            4.0  42.25  7.041543  33.0  39.75  43.0  45.50  50.0"
      ]
     },
     "execution_count": 53,
     "metadata": {},
     "output_type": "execute_result"
    }
   ],
   "source": [
    "BFdata.groupby([\"Age_enco\"]).describe()[[\"Affection\"]]"
   ]
  },
  {
   "cell_type": "code",
   "execution_count": 54,
   "metadata": {},
   "outputs": [
    {
     "data": {
      "text/plain": [
       "Ttest_indResult(statistic=-1.1797256364594217, pvalue=0.13737112797830212)"
      ]
     },
     "execution_count": 54,
     "metadata": {},
     "output_type": "execute_result"
    }
   ],
   "source": [
    "stats.ttest_ind(a=BFdata[BFdata[\"Age_enco\"] == \"<25 y.o\"][\"Affection\"], b=BFdata[BFdata[\"Age_enco\"] == \"25 to 40 y.o.\"][\"Affection\"], equal_var=False, alternative=\"less\")"
   ]
  },
  {
   "cell_type": "code",
   "execution_count": 55,
   "metadata": {},
   "outputs": [
    {
     "data": {
      "text/plain": [
       "Ttest_indResult(statistic=0.6933936125944304, pvalue=0.26108501957156527)"
      ]
     },
     "execution_count": 55,
     "metadata": {},
     "output_type": "execute_result"
    }
   ],
   "source": [
    "stats.ttest_ind(a=BFdata[BFdata[\"Age_enco\"] == \"<25 y.o\"][\"Affection\"], b=BFdata[BFdata[\"Age_enco\"] == \">40 y.o.\"][\"Affection\"], equal_var=False, alternative=\"greater\")"
   ]
  },
  {
   "cell_type": "code",
   "execution_count": 56,
   "metadata": {},
   "outputs": [
    {
     "data": {
      "text/plain": [
       "Ttest_indResult(statistic=1.4591292690411193, pvalue=0.10506115827171213)"
      ]
     },
     "execution_count": 56,
     "metadata": {},
     "output_type": "execute_result"
    }
   ],
   "source": [
    "stats.ttest_ind(a=BFdata[BFdata[\"Age_enco\"] == \"25 to 40 y.o.\"][\"Affection\"], b=BFdata[BFdata[\"Age_enco\"] == \">40 y.o.\"][\"Affection\"], equal_var=False, alternative=\"greater\")"
   ]
  },
  {
   "cell_type": "code",
   "execution_count": 57,
   "metadata": {},
   "outputs": [
    {
     "data": {
      "text/plain": [
       "KruskalResult(statistic=1.9952986725663686, pvalue=0.36874521920380693)"
      ]
     },
     "execution_count": 57,
     "metadata": {},
     "output_type": "execute_result"
    }
   ],
   "source": [
    "stats.kruskal(BFdata[BFdata[\"Age_enco\"] == \"<25 y.o\"][\"Affection\"], BFdata[BFdata[\"Age_enco\"] == \"25 to 40 y.o.\"][\"Affection\"], BFdata[BFdata[\"Age_enco\"] == \">40 y.o.\"][\"Affection\"])"
   ]
  },
  {
   "cell_type": "markdown",
   "metadata": {},
   "source": [
    "#### Affection Score by technical group"
   ]
  },
  {
   "cell_type": "code",
   "execution_count": 58,
   "metadata": {},
   "outputs": [
    {
     "data": {
      "text/html": [
       "<div>\n",
       "<style scoped>\n",
       "    .dataframe tbody tr th:only-of-type {\n",
       "        vertical-align: middle;\n",
       "    }\n",
       "\n",
       "    .dataframe tbody tr th {\n",
       "        vertical-align: top;\n",
       "    }\n",
       "\n",
       "    .dataframe thead th {\n",
       "        text-align: right;\n",
       "    }\n",
       "</style>\n",
       "<table border=\"1\" class=\"dataframe\">\n",
       "  <thead>\n",
       "    <tr style=\"text-align: right;\">\n",
       "      <th></th>\n",
       "      <th>count</th>\n",
       "      <th>mean</th>\n",
       "      <th>std</th>\n",
       "      <th>min</th>\n",
       "      <th>25%</th>\n",
       "      <th>50%</th>\n",
       "      <th>75%</th>\n",
       "      <th>max</th>\n",
       "    </tr>\n",
       "    <tr>\n",
       "      <th>G01Q12_encoded</th>\n",
       "      <th></th>\n",
       "      <th></th>\n",
       "      <th></th>\n",
       "      <th></th>\n",
       "      <th></th>\n",
       "      <th></th>\n",
       "      <th></th>\n",
       "      <th></th>\n",
       "    </tr>\n",
       "  </thead>\n",
       "  <tbody>\n",
       "    <tr>\n",
       "      <th>1</th>\n",
       "      <td>1.0</td>\n",
       "      <td>46.000000</td>\n",
       "      <td>NaN</td>\n",
       "      <td>46.0</td>\n",
       "      <td>46.0</td>\n",
       "      <td>46.0</td>\n",
       "      <td>46.0</td>\n",
       "      <td>46.0</td>\n",
       "    </tr>\n",
       "    <tr>\n",
       "      <th>2</th>\n",
       "      <td>3.0</td>\n",
       "      <td>39.666667</td>\n",
       "      <td>5.859465</td>\n",
       "      <td>33.0</td>\n",
       "      <td>37.5</td>\n",
       "      <td>42.0</td>\n",
       "      <td>43.0</td>\n",
       "      <td>44.0</td>\n",
       "    </tr>\n",
       "    <tr>\n",
       "      <th>3</th>\n",
       "      <td>5.0</td>\n",
       "      <td>45.400000</td>\n",
       "      <td>3.361547</td>\n",
       "      <td>41.0</td>\n",
       "      <td>43.0</td>\n",
       "      <td>46.0</td>\n",
       "      <td>48.0</td>\n",
       "      <td>49.0</td>\n",
       "    </tr>\n",
       "    <tr>\n",
       "      <th>4</th>\n",
       "      <td>5.0</td>\n",
       "      <td>49.000000</td>\n",
       "      <td>4.636809</td>\n",
       "      <td>42.0</td>\n",
       "      <td>47.0</td>\n",
       "      <td>50.0</td>\n",
       "      <td>53.0</td>\n",
       "      <td>53.0</td>\n",
       "    </tr>\n",
       "  </tbody>\n",
       "</table>\n",
       "</div>"
      ],
      "text/plain": [
       "                count       mean       std   min   25%   50%   75%   max\n",
       "G01Q12_encoded                                                          \n",
       "1                 1.0  46.000000       NaN  46.0  46.0  46.0  46.0  46.0\n",
       "2                 3.0  39.666667  5.859465  33.0  37.5  42.0  43.0  44.0\n",
       "3                 5.0  45.400000  3.361547  41.0  43.0  46.0  48.0  49.0\n",
       "4                 5.0  49.000000  4.636809  42.0  47.0  50.0  53.0  53.0"
      ]
     },
     "execution_count": 58,
     "metadata": {},
     "output_type": "execute_result"
    }
   ],
   "source": [
    "BFdata.groupby([\"G01Q12_encoded\"]).describe()[\"Affection\"]"
   ]
  },
  {
   "cell_type": "code",
   "execution_count": 59,
   "metadata": {},
   "outputs": [
    {
     "data": {
      "text/plain": [
       "KruskalResult(statistic=4.561325966850827, pvalue=0.10221641645619577)"
      ]
     },
     "execution_count": 59,
     "metadata": {},
     "output_type": "execute_result"
    }
   ],
   "source": [
    "stats.kruskal(BFdata.loc[BFdata[\"G01Q12_encoded\"] ==2]['Affection'], BFdata.loc[BFdata[\"G01Q12_encoded\"] ==3]['Affection'], BFdata.loc[BFdata[\"G01Q12_encoded\"] ==4]['Affection']  )"
   ]
  },
  {
   "cell_type": "markdown",
   "metadata": {},
   "source": [
    "### Cognitive"
   ]
  },
  {
   "cell_type": "code",
   "execution_count": 60,
   "metadata": {},
   "outputs": [],
   "source": [
    "BFdata[\"Cognitive\"] = BFdata[\"G02Affection[SQ001]_encoded\"] + BFdata[\"G03Cognitive[SQ001]_encoded\"] + BFdata[\"G03Cognitive[SQ002]_encoded\"] + BFdata[\"G03Cognitive[SQ003]_encoded\"] + BFdata[\"G03Cognitive[SQ004]_encoded\"] + BFdata[\"G03Cognitive[SQ005]_encoded\"]"
   ]
  },
  {
   "cell_type": "code",
   "execution_count": 61,
   "metadata": {},
   "outputs": [
    {
     "data": {
      "text/html": [
       "<div>\n",
       "<style scoped>\n",
       "    .dataframe tbody tr th:only-of-type {\n",
       "        vertical-align: middle;\n",
       "    }\n",
       "\n",
       "    .dataframe tbody tr th {\n",
       "        vertical-align: top;\n",
       "    }\n",
       "\n",
       "    .dataframe thead th {\n",
       "        text-align: right;\n",
       "    }\n",
       "</style>\n",
       "<table border=\"1\" class=\"dataframe\">\n",
       "  <thead>\n",
       "    <tr style=\"text-align: right;\">\n",
       "      <th></th>\n",
       "      <th>Cognitive</th>\n",
       "    </tr>\n",
       "  </thead>\n",
       "  <tbody>\n",
       "    <tr>\n",
       "      <th>count</th>\n",
       "      <td>14.000000</td>\n",
       "    </tr>\n",
       "    <tr>\n",
       "      <th>mean</th>\n",
       "      <td>26.500000</td>\n",
       "    </tr>\n",
       "    <tr>\n",
       "      <th>std</th>\n",
       "      <td>1.743118</td>\n",
       "    </tr>\n",
       "    <tr>\n",
       "      <th>min</th>\n",
       "      <td>22.000000</td>\n",
       "    </tr>\n",
       "    <tr>\n",
       "      <th>25%</th>\n",
       "      <td>26.000000</td>\n",
       "    </tr>\n",
       "    <tr>\n",
       "      <th>50%</th>\n",
       "      <td>27.000000</td>\n",
       "    </tr>\n",
       "    <tr>\n",
       "      <th>75%</th>\n",
       "      <td>27.750000</td>\n",
       "    </tr>\n",
       "    <tr>\n",
       "      <th>max</th>\n",
       "      <td>29.000000</td>\n",
       "    </tr>\n",
       "  </tbody>\n",
       "</table>\n",
       "</div>"
      ],
      "text/plain": [
       "       Cognitive\n",
       "count  14.000000\n",
       "mean   26.500000\n",
       "std     1.743118\n",
       "min    22.000000\n",
       "25%    26.000000\n",
       "50%    27.000000\n",
       "75%    27.750000\n",
       "max    29.000000"
      ]
     },
     "execution_count": 61,
     "metadata": {},
     "output_type": "execute_result"
    }
   ],
   "source": [
    "BFdata.describe()[[\"Cognitive\"]]"
   ]
  },
  {
   "cell_type": "markdown",
   "metadata": {},
   "source": [
    "#### Cognitive by gender"
   ]
  },
  {
   "cell_type": "code",
   "execution_count": 62,
   "metadata": {},
   "outputs": [
    {
     "data": {
      "text/html": [
       "<div>\n",
       "<style scoped>\n",
       "    .dataframe tbody tr th:only-of-type {\n",
       "        vertical-align: middle;\n",
       "    }\n",
       "\n",
       "    .dataframe tbody tr th {\n",
       "        vertical-align: top;\n",
       "    }\n",
       "\n",
       "    .dataframe thead tr th {\n",
       "        text-align: left;\n",
       "    }\n",
       "\n",
       "    .dataframe thead tr:last-of-type th {\n",
       "        text-align: right;\n",
       "    }\n",
       "</style>\n",
       "<table border=\"1\" class=\"dataframe\">\n",
       "  <thead>\n",
       "    <tr>\n",
       "      <th></th>\n",
       "      <th colspan=\"8\" halign=\"left\">Cognitive</th>\n",
       "    </tr>\n",
       "    <tr>\n",
       "      <th></th>\n",
       "      <th>count</th>\n",
       "      <th>mean</th>\n",
       "      <th>std</th>\n",
       "      <th>min</th>\n",
       "      <th>25%</th>\n",
       "      <th>50%</th>\n",
       "      <th>75%</th>\n",
       "      <th>max</th>\n",
       "    </tr>\n",
       "    <tr>\n",
       "      <th>G05Q07</th>\n",
       "      <th></th>\n",
       "      <th></th>\n",
       "      <th></th>\n",
       "      <th></th>\n",
       "      <th></th>\n",
       "      <th></th>\n",
       "      <th></th>\n",
       "      <th></th>\n",
       "    </tr>\n",
       "  </thead>\n",
       "  <tbody>\n",
       "    <tr>\n",
       "      <th>Femme</th>\n",
       "      <td>5.0</td>\n",
       "      <td>26.000000</td>\n",
       "      <td>2.345208</td>\n",
       "      <td>22.0</td>\n",
       "      <td>26.0</td>\n",
       "      <td>27.0</td>\n",
       "      <td>27.0</td>\n",
       "      <td>28.0</td>\n",
       "    </tr>\n",
       "    <tr>\n",
       "      <th>Homme</th>\n",
       "      <td>9.0</td>\n",
       "      <td>26.777778</td>\n",
       "      <td>1.394433</td>\n",
       "      <td>25.0</td>\n",
       "      <td>26.0</td>\n",
       "      <td>27.0</td>\n",
       "      <td>28.0</td>\n",
       "      <td>29.0</td>\n",
       "    </tr>\n",
       "  </tbody>\n",
       "</table>\n",
       "</div>"
      ],
      "text/plain": [
       "       Cognitive                                                   \n",
       "           count       mean       std   min   25%   50%   75%   max\n",
       "G05Q07                                                             \n",
       "Femme        5.0  26.000000  2.345208  22.0  26.0  27.0  27.0  28.0\n",
       "Homme        9.0  26.777778  1.394433  25.0  26.0  27.0  28.0  29.0"
      ]
     },
     "execution_count": 62,
     "metadata": {},
     "output_type": "execute_result"
    }
   ],
   "source": [
    "BFdata.groupby([\"G05Q07\"]).describe()[[\"Cognitive\"]]"
   ]
  },
  {
   "cell_type": "code",
   "execution_count": 63,
   "metadata": {},
   "outputs": [
    {
     "data": {
      "text/plain": [
       "Ttest_indResult(statistic=-0.677983988697803, pvalue=0.5247072238131596)"
      ]
     },
     "execution_count": 63,
     "metadata": {},
     "output_type": "execute_result"
    }
   ],
   "source": [
    "stats.ttest_ind(a=BFdata[BFdata[\"G05Q07\"] == \"Femme\"][\"Cognitive\"], b=BFdata[BFdata[\"G05Q07\"] == \"Homme\"][\"Cognitive\"], equal_var=False)"
   ]
  },
  {
   "cell_type": "code",
   "execution_count": 64,
   "metadata": {},
   "outputs": [
    {
     "data": {
      "text/plain": [
       "MannwhitneyuResult(statistic=20.0, pvalue=0.3986013986013986)"
      ]
     },
     "execution_count": 64,
     "metadata": {},
     "output_type": "execute_result"
    }
   ],
   "source": [
    "stats.mannwhitneyu(BFdata[BFdata[\"G05Q07\"] == \"Femme\"][\"Cognitive\"], BFdata[BFdata[\"G05Q07\"] == \"Homme\"][\"Cognitive\"], method=\"exact\", alternative=\"less\")"
   ]
  },
  {
   "cell_type": "markdown",
   "metadata": {},
   "source": [
    "#### Cognitive score per age group"
   ]
  },
  {
   "cell_type": "code",
   "execution_count": 65,
   "metadata": {},
   "outputs": [
    {
     "data": {
      "text/html": [
       "<div>\n",
       "<style scoped>\n",
       "    .dataframe tbody tr th:only-of-type {\n",
       "        vertical-align: middle;\n",
       "    }\n",
       "\n",
       "    .dataframe tbody tr th {\n",
       "        vertical-align: top;\n",
       "    }\n",
       "\n",
       "    .dataframe thead tr th {\n",
       "        text-align: left;\n",
       "    }\n",
       "\n",
       "    .dataframe thead tr:last-of-type th {\n",
       "        text-align: right;\n",
       "    }\n",
       "</style>\n",
       "<table border=\"1\" class=\"dataframe\">\n",
       "  <thead>\n",
       "    <tr>\n",
       "      <th></th>\n",
       "      <th colspan=\"8\" halign=\"left\">Cognitive</th>\n",
       "    </tr>\n",
       "    <tr>\n",
       "      <th></th>\n",
       "      <th>count</th>\n",
       "      <th>mean</th>\n",
       "      <th>std</th>\n",
       "      <th>min</th>\n",
       "      <th>25%</th>\n",
       "      <th>50%</th>\n",
       "      <th>75%</th>\n",
       "      <th>max</th>\n",
       "    </tr>\n",
       "    <tr>\n",
       "      <th>Age_enco</th>\n",
       "      <th></th>\n",
       "      <th></th>\n",
       "      <th></th>\n",
       "      <th></th>\n",
       "      <th></th>\n",
       "      <th></th>\n",
       "      <th></th>\n",
       "      <th></th>\n",
       "    </tr>\n",
       "  </thead>\n",
       "  <tbody>\n",
       "    <tr>\n",
       "      <th>&lt;25 y.o</th>\n",
       "      <td>4.0</td>\n",
       "      <td>27.5</td>\n",
       "      <td>1.732051</td>\n",
       "      <td>25.0</td>\n",
       "      <td>27.25</td>\n",
       "      <td>28.0</td>\n",
       "      <td>28.25</td>\n",
       "      <td>29.0</td>\n",
       "    </tr>\n",
       "    <tr>\n",
       "      <th>25 to 40 y.o.</th>\n",
       "      <td>6.0</td>\n",
       "      <td>26.5</td>\n",
       "      <td>0.836660</td>\n",
       "      <td>25.0</td>\n",
       "      <td>26.25</td>\n",
       "      <td>27.0</td>\n",
       "      <td>27.00</td>\n",
       "      <td>27.0</td>\n",
       "    </tr>\n",
       "    <tr>\n",
       "      <th>&gt;40 y.o.</th>\n",
       "      <td>4.0</td>\n",
       "      <td>25.5</td>\n",
       "      <td>2.516611</td>\n",
       "      <td>22.0</td>\n",
       "      <td>25.00</td>\n",
       "      <td>26.0</td>\n",
       "      <td>26.50</td>\n",
       "      <td>28.0</td>\n",
       "    </tr>\n",
       "  </tbody>\n",
       "</table>\n",
       "</div>"
      ],
      "text/plain": [
       "              Cognitive                                                \n",
       "                  count  mean       std   min    25%   50%    75%   max\n",
       "Age_enco                                                               \n",
       "<25 y.o             4.0  27.5  1.732051  25.0  27.25  28.0  28.25  29.0\n",
       "25 to 40 y.o.       6.0  26.5  0.836660  25.0  26.25  27.0  27.00  27.0\n",
       ">40 y.o.            4.0  25.5  2.516611  22.0  25.00  26.0  26.50  28.0"
      ]
     },
     "execution_count": 65,
     "metadata": {},
     "output_type": "execute_result"
    }
   ],
   "source": [
    "BFdata.groupby([\"Age_enco\"]).describe()[[\"Cognitive\"]]"
   ]
  },
  {
   "cell_type": "code",
   "execution_count": 66,
   "metadata": {},
   "outputs": [
    {
     "data": {
      "text/plain": [
       "Ttest_indResult(statistic=1.0741723110591492, pvalue=0.17197760855775082)"
      ]
     },
     "execution_count": 66,
     "metadata": {},
     "output_type": "execute_result"
    }
   ],
   "source": [
    "stats.ttest_ind(a=BFdata[BFdata[\"Age_enco\"] == \"<25 y.o\"][\"Cognitive\"], b=BFdata[BFdata[\"Age_enco\"] == \"25 to 40 y.o.\"][\"Cognitive\"], equal_var=False, alternative=\"greater\")"
   ]
  },
  {
   "cell_type": "code",
   "execution_count": 67,
   "metadata": {},
   "outputs": [
    {
     "data": {
      "text/plain": [
       "Ttest_indResult(statistic=1.3093073414159544, pvalue=0.12205761761636996)"
      ]
     },
     "execution_count": 67,
     "metadata": {},
     "output_type": "execute_result"
    }
   ],
   "source": [
    "stats.ttest_ind(a=BFdata[BFdata[\"Age_enco\"] == \"<25 y.o\"][\"Cognitive\"], b=BFdata[BFdata[\"Age_enco\"] == \">40 y.o.\"][\"Cognitive\"], equal_var=False, alternative=\"greater\")"
   ]
  },
  {
   "cell_type": "code",
   "execution_count": 68,
   "metadata": {},
   "outputs": [
    {
     "data": {
      "text/plain": [
       "Ttest_indResult(statistic=0.7669649888473704, pvalue=0.24611467655526986)"
      ]
     },
     "execution_count": 68,
     "metadata": {},
     "output_type": "execute_result"
    }
   ],
   "source": [
    "stats.ttest_ind(a=BFdata[BFdata[\"Age_enco\"] == \"25 to 40 y.o.\"][\"Cognitive\"], b=BFdata[BFdata[\"Age_enco\"] == \">40 y.o.\"][\"Cognitive\"], equal_var=False, alternative=\"greater\")"
   ]
  },
  {
   "cell_type": "code",
   "execution_count": 69,
   "metadata": {},
   "outputs": [
    {
     "data": {
      "text/plain": [
       "KruskalResult(statistic=2.495890672782881, pvalue=0.2870940730148021)"
      ]
     },
     "execution_count": 69,
     "metadata": {},
     "output_type": "execute_result"
    }
   ],
   "source": [
    "stats.kruskal(BFdata[BFdata[\"Age_enco\"] == \"<25 y.o\"][\"Cognitive\"], BFdata[BFdata[\"Age_enco\"] == \"25 to 40 y.o.\"][\"Cognitive\"], BFdata[BFdata[\"Age_enco\"] == \">40 y.o.\"][\"Cognitive\"])"
   ]
  },
  {
   "cell_type": "markdown",
   "metadata": {},
   "source": [
    "#### Cognitive Score by technical group"
   ]
  },
  {
   "cell_type": "code",
   "execution_count": 70,
   "metadata": {},
   "outputs": [
    {
     "data": {
      "text/html": [
       "<div>\n",
       "<style scoped>\n",
       "    .dataframe tbody tr th:only-of-type {\n",
       "        vertical-align: middle;\n",
       "    }\n",
       "\n",
       "    .dataframe tbody tr th {\n",
       "        vertical-align: top;\n",
       "    }\n",
       "\n",
       "    .dataframe thead th {\n",
       "        text-align: right;\n",
       "    }\n",
       "</style>\n",
       "<table border=\"1\" class=\"dataframe\">\n",
       "  <thead>\n",
       "    <tr style=\"text-align: right;\">\n",
       "      <th></th>\n",
       "      <th>count</th>\n",
       "      <th>mean</th>\n",
       "      <th>std</th>\n",
       "      <th>min</th>\n",
       "      <th>25%</th>\n",
       "      <th>50%</th>\n",
       "      <th>75%</th>\n",
       "      <th>max</th>\n",
       "    </tr>\n",
       "    <tr>\n",
       "      <th>G01Q12_encoded</th>\n",
       "      <th></th>\n",
       "      <th></th>\n",
       "      <th></th>\n",
       "      <th></th>\n",
       "      <th></th>\n",
       "      <th></th>\n",
       "      <th></th>\n",
       "      <th></th>\n",
       "    </tr>\n",
       "  </thead>\n",
       "  <tbody>\n",
       "    <tr>\n",
       "      <th>1</th>\n",
       "      <td>1.0</td>\n",
       "      <td>27.000000</td>\n",
       "      <td>NaN</td>\n",
       "      <td>27.0</td>\n",
       "      <td>27.0</td>\n",
       "      <td>27.0</td>\n",
       "      <td>27.0</td>\n",
       "      <td>27.0</td>\n",
       "    </tr>\n",
       "    <tr>\n",
       "      <th>2</th>\n",
       "      <td>3.0</td>\n",
       "      <td>24.666667</td>\n",
       "      <td>2.309401</td>\n",
       "      <td>22.0</td>\n",
       "      <td>24.0</td>\n",
       "      <td>26.0</td>\n",
       "      <td>26.0</td>\n",
       "      <td>26.0</td>\n",
       "    </tr>\n",
       "    <tr>\n",
       "      <th>3</th>\n",
       "      <td>5.0</td>\n",
       "      <td>27.200000</td>\n",
       "      <td>1.483240</td>\n",
       "      <td>25.0</td>\n",
       "      <td>27.0</td>\n",
       "      <td>27.0</td>\n",
       "      <td>28.0</td>\n",
       "      <td>29.0</td>\n",
       "    </tr>\n",
       "    <tr>\n",
       "      <th>4</th>\n",
       "      <td>5.0</td>\n",
       "      <td>26.800000</td>\n",
       "      <td>1.303840</td>\n",
       "      <td>25.0</td>\n",
       "      <td>26.0</td>\n",
       "      <td>27.0</td>\n",
       "      <td>28.0</td>\n",
       "      <td>28.0</td>\n",
       "    </tr>\n",
       "  </tbody>\n",
       "</table>\n",
       "</div>"
      ],
      "text/plain": [
       "                count       mean       std   min   25%   50%   75%   max\n",
       "G01Q12_encoded                                                          \n",
       "1                 1.0  27.000000       NaN  27.0  27.0  27.0  27.0  27.0\n",
       "2                 3.0  24.666667  2.309401  22.0  24.0  26.0  26.0  26.0\n",
       "3                 5.0  27.200000  1.483240  25.0  27.0  27.0  28.0  29.0\n",
       "4                 5.0  26.800000  1.303840  25.0  26.0  27.0  28.0  28.0"
      ]
     },
     "execution_count": 70,
     "metadata": {},
     "output_type": "execute_result"
    }
   ],
   "source": [
    "BFdata.groupby([\"G01Q12_encoded\"]).describe()[\"Cognitive\"]"
   ]
  },
  {
   "cell_type": "code",
   "execution_count": 71,
   "metadata": {},
   "outputs": [
    {
     "data": {
      "text/plain": [
       "KruskalResult(statistic=3.1339031339031265, pvalue=0.20868036182563704)"
      ]
     },
     "execution_count": 71,
     "metadata": {},
     "output_type": "execute_result"
    }
   ],
   "source": [
    "stats.kruskal(BFdata.loc[BFdata[\"G01Q12_encoded\"] ==2]['Cognitive'], BFdata.loc[BFdata[\"G01Q12_encoded\"] ==3]['Cognitive'], BFdata.loc[BFdata[\"G01Q12_encoded\"] ==4]['Cognitive']  )"
   ]
  },
  {
   "cell_type": "markdown",
   "metadata": {},
   "source": [
    "### Attitude level"
   ]
  },
  {
   "cell_type": "code",
   "execution_count": 72,
   "metadata": {},
   "outputs": [],
   "source": [
    "BFdata[\"GCASLevel\"] = pd.cut(BFdata[\"Score\"],bins=[0,115.75,127.75,150],labels=['negative','neutral','positive'])"
   ]
  },
  {
   "cell_type": "markdown",
   "metadata": {},
   "source": [
    "#### Attitude level by age"
   ]
  },
  {
   "cell_type": "code",
   "execution_count": 73,
   "metadata": {},
   "outputs": [
    {
     "data": {
      "text/html": [
       "<div>\n",
       "<style scoped>\n",
       "    .dataframe tbody tr th:only-of-type {\n",
       "        vertical-align: middle;\n",
       "    }\n",
       "\n",
       "    .dataframe tbody tr th {\n",
       "        vertical-align: top;\n",
       "    }\n",
       "\n",
       "    .dataframe thead tr th {\n",
       "        text-align: left;\n",
       "    }\n",
       "\n",
       "    .dataframe thead tr:last-of-type th {\n",
       "        text-align: right;\n",
       "    }\n",
       "</style>\n",
       "<table border=\"1\" class=\"dataframe\">\n",
       "  <thead>\n",
       "    <tr>\n",
       "      <th></th>\n",
       "      <th colspan=\"8\" halign=\"left\">G01Q08</th>\n",
       "    </tr>\n",
       "    <tr>\n",
       "      <th></th>\n",
       "      <th>count</th>\n",
       "      <th>mean</th>\n",
       "      <th>std</th>\n",
       "      <th>min</th>\n",
       "      <th>25%</th>\n",
       "      <th>50%</th>\n",
       "      <th>75%</th>\n",
       "      <th>max</th>\n",
       "    </tr>\n",
       "    <tr>\n",
       "      <th>GCASLevel</th>\n",
       "      <th></th>\n",
       "      <th></th>\n",
       "      <th></th>\n",
       "      <th></th>\n",
       "      <th></th>\n",
       "      <th></th>\n",
       "      <th></th>\n",
       "      <th></th>\n",
       "    </tr>\n",
       "  </thead>\n",
       "  <tbody>\n",
       "    <tr>\n",
       "      <th>negative</th>\n",
       "      <td>4.0</td>\n",
       "      <td>43.250000</td>\n",
       "      <td>13.961256</td>\n",
       "      <td>23.0</td>\n",
       "      <td>39.50</td>\n",
       "      <td>48.5</td>\n",
       "      <td>52.25</td>\n",
       "      <td>53.0</td>\n",
       "    </tr>\n",
       "    <tr>\n",
       "      <th>neutral</th>\n",
       "      <td>6.0</td>\n",
       "      <td>32.166667</td>\n",
       "      <td>7.704977</td>\n",
       "      <td>23.0</td>\n",
       "      <td>27.50</td>\n",
       "      <td>31.5</td>\n",
       "      <td>34.75</td>\n",
       "      <td>45.0</td>\n",
       "    </tr>\n",
       "    <tr>\n",
       "      <th>positive</th>\n",
       "      <td>4.0</td>\n",
       "      <td>27.500000</td>\n",
       "      <td>5.567764</td>\n",
       "      <td>22.0</td>\n",
       "      <td>24.25</td>\n",
       "      <td>26.5</td>\n",
       "      <td>29.75</td>\n",
       "      <td>35.0</td>\n",
       "    </tr>\n",
       "  </tbody>\n",
       "</table>\n",
       "</div>"
      ],
      "text/plain": [
       "          G01Q08                                                      \n",
       "           count       mean        std   min    25%   50%    75%   max\n",
       "GCASLevel                                                             \n",
       "negative     4.0  43.250000  13.961256  23.0  39.50  48.5  52.25  53.0\n",
       "neutral      6.0  32.166667   7.704977  23.0  27.50  31.5  34.75  45.0\n",
       "positive     4.0  27.500000   5.567764  22.0  24.25  26.5  29.75  35.0"
      ]
     },
     "execution_count": 73,
     "metadata": {},
     "output_type": "execute_result"
    }
   ],
   "source": [
    "BFdata.groupby([\"GCASLevel\"]).describe()[['G01Q08']]"
   ]
  },
  {
   "cell_type": "markdown",
   "metadata": {},
   "source": [
    "#### Attitude level by technical experience level"
   ]
  },
  {
   "cell_type": "code",
   "execution_count": 74,
   "metadata": {},
   "outputs": [
    {
     "data": {
      "text/html": [
       "<div>\n",
       "<style scoped>\n",
       "    .dataframe tbody tr th:only-of-type {\n",
       "        vertical-align: middle;\n",
       "    }\n",
       "\n",
       "    .dataframe tbody tr th {\n",
       "        vertical-align: top;\n",
       "    }\n",
       "\n",
       "    .dataframe thead tr th {\n",
       "        text-align: left;\n",
       "    }\n",
       "\n",
       "    .dataframe thead tr:last-of-type th {\n",
       "        text-align: right;\n",
       "    }\n",
       "</style>\n",
       "<table border=\"1\" class=\"dataframe\">\n",
       "  <thead>\n",
       "    <tr>\n",
       "      <th></th>\n",
       "      <th colspan=\"8\" halign=\"left\">G01Q12_encoded</th>\n",
       "    </tr>\n",
       "    <tr>\n",
       "      <th></th>\n",
       "      <th>count</th>\n",
       "      <th>mean</th>\n",
       "      <th>std</th>\n",
       "      <th>min</th>\n",
       "      <th>25%</th>\n",
       "      <th>50%</th>\n",
       "      <th>75%</th>\n",
       "      <th>max</th>\n",
       "    </tr>\n",
       "    <tr>\n",
       "      <th>GCASLevel</th>\n",
       "      <th></th>\n",
       "      <th></th>\n",
       "      <th></th>\n",
       "      <th></th>\n",
       "      <th></th>\n",
       "      <th></th>\n",
       "      <th></th>\n",
       "      <th></th>\n",
       "    </tr>\n",
       "  </thead>\n",
       "  <tbody>\n",
       "    <tr>\n",
       "      <th>negative</th>\n",
       "      <td>4.0</td>\n",
       "      <td>2.750000</td>\n",
       "      <td>0.957427</td>\n",
       "      <td>2.0</td>\n",
       "      <td>2.00</td>\n",
       "      <td>2.5</td>\n",
       "      <td>3.25</td>\n",
       "      <td>4.0</td>\n",
       "    </tr>\n",
       "    <tr>\n",
       "      <th>neutral</th>\n",
       "      <td>6.0</td>\n",
       "      <td>2.666667</td>\n",
       "      <td>1.032796</td>\n",
       "      <td>1.0</td>\n",
       "      <td>2.25</td>\n",
       "      <td>3.0</td>\n",
       "      <td>3.00</td>\n",
       "      <td>4.0</td>\n",
       "    </tr>\n",
       "    <tr>\n",
       "      <th>positive</th>\n",
       "      <td>4.0</td>\n",
       "      <td>3.750000</td>\n",
       "      <td>0.500000</td>\n",
       "      <td>3.0</td>\n",
       "      <td>3.75</td>\n",
       "      <td>4.0</td>\n",
       "      <td>4.00</td>\n",
       "      <td>4.0</td>\n",
       "    </tr>\n",
       "  </tbody>\n",
       "</table>\n",
       "</div>"
      ],
      "text/plain": [
       "          G01Q12_encoded                                               \n",
       "                   count      mean       std  min   25%  50%   75%  max\n",
       "GCASLevel                                                              \n",
       "negative             4.0  2.750000  0.957427  2.0  2.00  2.5  3.25  4.0\n",
       "neutral              6.0  2.666667  1.032796  1.0  2.25  3.0  3.00  4.0\n",
       "positive             4.0  3.750000  0.500000  3.0  3.75  4.0  4.00  4.0"
      ]
     },
     "execution_count": 74,
     "metadata": {},
     "output_type": "execute_result"
    }
   ],
   "source": [
    "BFdata.groupby([\"GCASLevel\"]).describe()[[ 'G01Q12_encoded']]"
   ]
  },
  {
   "cell_type": "markdown",
   "metadata": {},
   "source": [
    "#### Attitude level by gender"
   ]
  },
  {
   "cell_type": "code",
   "execution_count": 75,
   "metadata": {},
   "outputs": [
    {
     "data": {
      "text/html": [
       "<div>\n",
       "<style scoped>\n",
       "    .dataframe tbody tr th:only-of-type {\n",
       "        vertical-align: middle;\n",
       "    }\n",
       "\n",
       "    .dataframe tbody tr th {\n",
       "        vertical-align: top;\n",
       "    }\n",
       "\n",
       "    .dataframe thead th {\n",
       "        text-align: right;\n",
       "    }\n",
       "</style>\n",
       "<table border=\"1\" class=\"dataframe\">\n",
       "  <thead>\n",
       "    <tr style=\"text-align: right;\">\n",
       "      <th>G05Q07</th>\n",
       "      <th>Femme</th>\n",
       "      <th>Homme</th>\n",
       "    </tr>\n",
       "    <tr>\n",
       "      <th>GCASLevel</th>\n",
       "      <th></th>\n",
       "      <th></th>\n",
       "    </tr>\n",
       "  </thead>\n",
       "  <tbody>\n",
       "    <tr>\n",
       "      <th>negative</th>\n",
       "      <td>2</td>\n",
       "      <td>2</td>\n",
       "    </tr>\n",
       "    <tr>\n",
       "      <th>neutral</th>\n",
       "      <td>3</td>\n",
       "      <td>3</td>\n",
       "    </tr>\n",
       "    <tr>\n",
       "      <th>positive</th>\n",
       "      <td>0</td>\n",
       "      <td>4</td>\n",
       "    </tr>\n",
       "  </tbody>\n",
       "</table>\n",
       "</div>"
      ],
      "text/plain": [
       "G05Q07     Femme  Homme\n",
       "GCASLevel              \n",
       "negative       2      2\n",
       "neutral        3      3\n",
       "positive       0      4"
      ]
     },
     "execution_count": 75,
     "metadata": {},
     "output_type": "execute_result"
    }
   ],
   "source": [
    "pd.crosstab(BFdata[\"GCASLevel\"], BFdata[\"G05Q07\"] )"
   ]
  },
  {
   "cell_type": "markdown",
   "metadata": {},
   "source": [
    "## Export Data"
   ]
  },
  {
   "cell_type": "code",
   "execution_count": 76,
   "metadata": {},
   "outputs": [],
   "source": [
    "BFdata.to_csv(\"2023-09-06-step1-rawdata-clean-extended.csv\", index=False)"
   ]
  }
 ],
 "metadata": {
  "kernelspec": {
   "display_name": "UX-Josselin",
   "language": "python",
   "name": "python3"
  },
  "language_info": {
   "codemirror_mode": {
    "name": "ipython",
    "version": 3
   },
   "file_extension": ".py",
   "mimetype": "text/x-python",
   "name": "python",
   "nbconvert_exporter": "python",
   "pygments_lexer": "ipython3",
   "version": "3.9.13"
  }
 },
 "nbformat": 4,
 "nbformat_minor": 2
}
